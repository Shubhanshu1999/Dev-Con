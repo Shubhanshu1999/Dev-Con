{
  "nbformat": 4,
  "nbformat_minor": 0,
  "metadata": {
    "accelerator": "GPU",
    "colab": {
      "name": "GAN",
      "provenance": [],
      "collapsed_sections": [],
      "mount_file_id": "1aFNV1h_ziobreaVBo7Qw3t7lrEMymjS9",
      "authorship_tag": "ABX9TyNDkuORJ5jsEIA1dCxl1dGy",
      "include_colab_link": true
    },
    "kernelspec": {
      "display_name": "Python 3",
      "name": "python3"
    }
  },
  "cells": [
    {
      "cell_type": "markdown",
      "metadata": {
        "id": "view-in-github",
        "colab_type": "text"
      },
      "source": [
        "<a href=\"https://colab.research.google.com/github/Shubhanshu1999/Dev-Con/blob/master/GAN.ipynb\" target=\"_parent\"><img src=\"https://colab.research.google.com/assets/colab-badge.svg\" alt=\"Open In Colab\"/></a>"
      ]
    },
    {
      "cell_type": "code",
      "metadata": {
        "id": "zlzUvfw0v-S_"
      },
      "source": [
        "import tensorflow as tf\r\n",
        "import keras\r\n",
        "from keras.preprocessing import image\r\n",
        "from keras.engine import Layer\r\n",
        "from keras.layers import Conv2D, Conv3D, UpSampling2D, InputLayer, Conv2DTranspose, Input, Reshape, merge, Concatenate, MaxPooling2D, GlobalAveragePooling2D\r\n",
        "from keras.layers import Activation, Dense, Dropout, Flatten, Lambda\r\n",
        "from keras.layers.normalization import BatchNormalization\r\n",
        "from keras.callbacks import TensorBoard\r\n",
        "from keras.models import Sequential, Model\r\n",
        "from keras.preprocessing.image import ImageDataGenerator, array_to_img, img_to_array, load_img\r\n",
        "from skimage.color import rgb2lab, lab2rgb, rgb2gray, gray2rgb\r\n",
        "from skimage.transform import resize\r\n",
        "from skimage.io import imsave\r\n",
        "from time import time\r\n",
        "import numpy as np\r\n",
        "import os\r\n",
        "import random\r\n",
        "from PIL import Image, ImageFile"
      ],
      "execution_count": null,
      "outputs": []
    },
    {
      "cell_type": "code",
      "metadata": {
        "id": "TtxrhIMO2CfT"
      },
      "source": [
        "import scipy.io as scio\r\n",
        "mat=scio.loadmat('/content/drive/MyDrive/final_year_project/folder/data0.mat')\r\n",
        "X_train=mat['Data_input']\r\n",
        "Y_train=mat['Data_output']\r\n",
        "for i in range(1,10):\r\n",
        "  mat=scio.loadmat('/content/drive/MyDrive/final_year_project/folder/data'+str(i)+'.mat')\r\n",
        "  X_train=np.concatenate((X_train,mat['Data_input']),axis=0)\r\n",
        "  Y_train=np.concatenate((Y_train,mat['Data_output']),axis=0)\r\n",
        "X_train=X_train.astype('float32')/100\r\n",
        "Y_train=Y_train.astype('float32')/100\r\n",
        "X_train=np.expand_dims(X_train,axis=-1)\r\n",
        "\r\n",
        "mat=scio.loadmat('/content/drive/MyDrive/final_year_project/folder/data10.mat')\r\n",
        "X_test=mat['Data_input']\r\n",
        "Y_test=mat['Data_output']\r\n",
        "for i in range(11,13):\r\n",
        "  mat=scio.loadmat('/content/drive/MyDrive/final_year_project/folder/data'+str(i)+'.mat')\r\n",
        "  X_test=np.concatenate((X_test,mat['Data_input']),axis=0)\r\n",
        "  Y_test=np.concatenate((Y_test,mat['Data_output']),axis=0)\r\n",
        "X_test=X_test.astype('float32')/100\r\n",
        "Y_test=Y_test.astype('float32')/100\r\n",
        "X_test=np.expand_dims(X_test,axis=-1)\r\n"
      ],
      "execution_count": null,
      "outputs": []
    },
    {
      "cell_type": "code",
      "metadata": {
        "colab": {
          "base_uri": "https://localhost:8080/"
        },
        "id": "YeWDy2bqw7a9",
        "outputId": "f2f22b5f-49af-4b1d-e43b-e0f6fc790342"
      },
      "source": [
        "#Encoder\r\n",
        "encoder_input = Input(shape=(224,224,1))\r\n",
        "vggmodel = keras.applications.vgg16.VGG16()\r\n",
        "newmodel = Sequential() \r\n",
        "#newmodel.add(Input(shape=(224,224,1)))\r\n",
        "#newmodel.add(Concatenate(axis=-1)([encoder_input,encoder_input,encoder_input]))\r\n",
        "num = 0\r\n",
        "for i, layer in enumerate(vggmodel.layers):\r\n",
        "    if i<19:\r\n",
        "      newmodel.add(layer)\r\n",
        "newmodel.summary()\r\n",
        "for layer in newmodel.layers:\r\n",
        "  layer.trainable=False\r\n",
        "\r\n",
        "x = Concatenate(axis=-1)([encoder_input,encoder_input,encoder_input])\r\n",
        "model_tmp = Model(inputs=encoder_input, outputs=x)\r\n",
        "model_tmp.compile(optimizer='Adam', loss='mse')\r\n",
        "model_encoder=Model(inputs=encoder_input,outputs=newmodel(model_tmp(encoder_input)))\r\n",
        "model_encoder.compile(optimizer='Adam', loss='mse')\r\n",
        "\r\n",
        "\r\n",
        "#Decoder\r\n",
        "decoder_input = Input(shape=(7,7,512))\r\n",
        "decoder_output = Conv2D(256, (3,3), activation='relu', padding='same')(decoder_input)\r\n",
        "decoder_output = Conv2D(128, (3,3), activation='relu', padding='same')(decoder_output)\r\n",
        "decoder_output = UpSampling2D((2, 2))(decoder_output)\r\n",
        "decoder_output = Conv2D(64, (3,3), activation='relu', padding='same')(decoder_output)\r\n",
        "decoder_output = UpSampling2D((2, 2))(decoder_output)\r\n",
        "decoder_output = Conv2D(32, (3,3), activation='relu', padding='same')(decoder_output)\r\n",
        "decoder_output = UpSampling2D((2, 2))(decoder_output)\r\n",
        "decoder_output = Conv2D(16, (3,3), activation='relu', padding='same')(decoder_output)\r\n",
        "decoder_output = UpSampling2D((2, 2))(decoder_output)\r\n",
        "decoder_output = Conv2D(2, (3, 3), activation='tanh', padding='same')(decoder_output)\r\n",
        "decoder_output = UpSampling2D((2, 2))(decoder_output)\r\n",
        "decoder_output = Concatenate(axis=-1)([encoder_input,decoder_output])\r\n",
        "model_decoder=Model(inputs=[encoder_input,decoder_input],outputs=decoder_output)\r\n",
        "model_decoder.compile(optimizer='Adam', loss='mse')\r\n",
        "model_gen = Model(inputs=encoder_input, outputs=model_decoder([encoder_input,model_encoder(encoder_input)]))\r\n",
        "model_gen.summary()"
      ],
      "execution_count": null,
      "outputs": [
        {
          "output_type": "stream",
          "text": [
            "Downloading data from https://storage.googleapis.com/tensorflow/keras-applications/vgg16/vgg16_weights_tf_dim_ordering_tf_kernels.h5\n",
            "553467904/553467096 [==============================] - 4s 0us/step\n",
            "Model: \"sequential\"\n",
            "_________________________________________________________________\n",
            "Layer (type)                 Output Shape              Param #   \n",
            "=================================================================\n",
            "block1_conv1 (Conv2D)        (None, 224, 224, 64)      1792      \n",
            "_________________________________________________________________\n",
            "block1_conv2 (Conv2D)        (None, 224, 224, 64)      36928     \n",
            "_________________________________________________________________\n",
            "block1_pool (MaxPooling2D)   (None, 112, 112, 64)      0         \n",
            "_________________________________________________________________\n",
            "block2_conv1 (Conv2D)        (None, 112, 112, 128)     73856     \n",
            "_________________________________________________________________\n",
            "block2_conv2 (Conv2D)        (None, 112, 112, 128)     147584    \n",
            "_________________________________________________________________\n",
            "block2_pool (MaxPooling2D)   (None, 56, 56, 128)       0         \n",
            "_________________________________________________________________\n",
            "block3_conv1 (Conv2D)        (None, 56, 56, 256)       295168    \n",
            "_________________________________________________________________\n",
            "block3_conv2 (Conv2D)        (None, 56, 56, 256)       590080    \n",
            "_________________________________________________________________\n",
            "block3_conv3 (Conv2D)        (None, 56, 56, 256)       590080    \n",
            "_________________________________________________________________\n",
            "block3_pool (MaxPooling2D)   (None, 28, 28, 256)       0         \n",
            "_________________________________________________________________\n",
            "block4_conv1 (Conv2D)        (None, 28, 28, 512)       1180160   \n",
            "_________________________________________________________________\n",
            "block4_conv2 (Conv2D)        (None, 28, 28, 512)       2359808   \n",
            "_________________________________________________________________\n",
            "block4_conv3 (Conv2D)        (None, 28, 28, 512)       2359808   \n",
            "_________________________________________________________________\n",
            "block4_pool (MaxPooling2D)   (None, 14, 14, 512)       0         \n",
            "_________________________________________________________________\n",
            "block5_conv1 (Conv2D)        (None, 14, 14, 512)       2359808   \n",
            "_________________________________________________________________\n",
            "block5_conv2 (Conv2D)        (None, 14, 14, 512)       2359808   \n",
            "_________________________________________________________________\n",
            "block5_conv3 (Conv2D)        (None, 14, 14, 512)       2359808   \n",
            "_________________________________________________________________\n",
            "block5_pool (MaxPooling2D)   (None, 7, 7, 512)         0         \n",
            "=================================================================\n",
            "Total params: 14,714,688\n",
            "Trainable params: 14,714,688\n",
            "Non-trainable params: 0\n",
            "_________________________________________________________________\n",
            "Model: \"model_3\"\n",
            "__________________________________________________________________________________________________\n",
            "Layer (type)                    Output Shape         Param #     Connected to                     \n",
            "==================================================================================================\n",
            "input_1 (InputLayer)            [(None, 224, 224, 1) 0                                            \n",
            "__________________________________________________________________________________________________\n",
            "model_1 (Functional)            (None, 7, 7, 512)    14714688    input_1[0][0]                    \n",
            "__________________________________________________________________________________________________\n",
            "model_2 (Functional)            (None, 224, 224, 3)  1572114     input_1[0][0]                    \n",
            "                                                                 model_1[0][0]                    \n",
            "==================================================================================================\n",
            "Total params: 16,286,802\n",
            "Trainable params: 1,572,114\n",
            "Non-trainable params: 14,714,688\n",
            "__________________________________________________________________________________________________\n"
          ],
          "name": "stdout"
        }
      ]
    },
    {
      "cell_type": "code",
      "metadata": {
        "colab": {
          "base_uri": "https://localhost:8080/"
        },
        "id": "PkTjIjY84_UW",
        "outputId": "6d862294-983d-4342-f44a-83ebc52920ef"
      },
      "source": [
        "model_encoder.summary()"
      ],
      "execution_count": null,
      "outputs": [
        {
          "output_type": "stream",
          "text": [
            "Model: \"model_1\"\n",
            "_________________________________________________________________\n",
            "Layer (type)                 Output Shape              Param #   \n",
            "=================================================================\n",
            "input_1 (InputLayer)         [(None, 224, 224, 1)]     0         \n",
            "_________________________________________________________________\n",
            "model (Functional)           (None, 224, 224, 3)       0         \n",
            "_________________________________________________________________\n",
            "sequential (Sequential)      (None, 7, 7, 512)         14714688  \n",
            "=================================================================\n",
            "Total params: 14,714,688\n",
            "Trainable params: 0\n",
            "Non-trainable params: 14,714,688\n",
            "_________________________________________________________________\n"
          ],
          "name": "stdout"
        }
      ]
    },
    {
      "cell_type": "code",
      "metadata": {
        "colab": {
          "base_uri": "https://localhost:8080/"
        },
        "id": "g-1OfRZcaWhy",
        "outputId": "dca500f8-b0ee-4d60-eef0-51526da5a83f"
      },
      "source": [
        "model_encoder.summary()"
      ],
      "execution_count": null,
      "outputs": [
        {
          "output_type": "stream",
          "text": [
            "Model: \"model_1\"\n",
            "_________________________________________________________________\n",
            "Layer (type)                 Output Shape              Param #   \n",
            "=================================================================\n",
            "input_1 (InputLayer)         [(None, 224, 224, 1)]     0         \n",
            "_________________________________________________________________\n",
            "model (Functional)           (None, 224, 224, 3)       0         \n",
            "_________________________________________________________________\n",
            "sequential (Sequential)      (None, 7, 7, 512)         14714688  \n",
            "=================================================================\n",
            "Total params: 14,714,688\n",
            "Trainable params: 0\n",
            "Non-trainable params: 14,714,688\n",
            "_________________________________________________________________\n"
          ],
          "name": "stdout"
        }
      ]
    },
    {
      "cell_type": "code",
      "metadata": {
        "id": "ghYbZt54w-ju"
      },
      "source": [
        "from keras.callbacks import TensorBoard\r\n",
        "tensorboard = TensorBoard(log_dir='/content/logs')\r\n",
        "model_gen.compile(optimizer='Adam', loss='mse' , metrics=['accuracy'])\r\n",
        "critic_input = Input(shape=(224, 224, 3,))\r\n",
        "x = Conv2D(64, (3,3), activation='relu')(critic_input)\r\n",
        "x = Conv2D(64, (3,3), activation='relu')(x)\r\n",
        "x = Conv2D(64, (3,3), activation='relu')(x)\r\n",
        "x = MaxPooling2D((2,2))(x)\r\n",
        "x = Conv2D(128, (3,3), activation='relu')(x)\r\n",
        "x = Conv2D(128, (3,3), activation='relu')(x)\r\n",
        "x = Conv2D(128, (3,3), activation='relu')(x)\r\n",
        "x = MaxPooling2D((2,2))(x)\r\n",
        "x = Conv2D(256, (3,3), activation='relu')(x)\r\n",
        "x = Conv2D(256, (3,3), activation='relu')(x)\r\n",
        "x = Conv2D(256, (3,3), activation='relu')(x)\r\n",
        "x = MaxPooling2D((2,2))(x)\r\n",
        "x = Conv2D(512, (3,3), activation='relu')(x)\r\n",
        "x = Conv2D(512, (3,3), activation='relu')(x)\r\n",
        "x = Conv2D(512, (3,3), activation='relu')(x)\r\n",
        "x = MaxPooling2D((2,2))(x)\r\n",
        "x = GlobalAveragePooling2D()(x)\r\n",
        "x = Dense(1,activation='softmax')(x)\r\n",
        "critic_model=Model(inputs=critic_input, outputs=x)\r\n",
        "critic_model.compile(optimizer='Adam', loss='binary_crossentropy' , metrics=['accuracy'])"
      ],
      "execution_count": null,
      "outputs": []
    },
    {
      "cell_type": "code",
      "metadata": {
        "colab": {
          "base_uri": "https://localhost:8080/"
        },
        "id": "8GxBzeBTMWsN",
        "outputId": "264d5b90-cf4f-4baf-c6e8-7d240793a3f2"
      },
      "source": [
        "critic_model.summary()"
      ],
      "execution_count": null,
      "outputs": [
        {
          "output_type": "stream",
          "text": [
            "Model: \"model_4\"\n",
            "_________________________________________________________________\n",
            "Layer (type)                 Output Shape              Param #   \n",
            "=================================================================\n",
            "input_4 (InputLayer)         [(None, 224, 224, 3)]     0         \n",
            "_________________________________________________________________\n",
            "conv2d_6 (Conv2D)            (None, 222, 222, 64)      1792      \n",
            "_________________________________________________________________\n",
            "conv2d_7 (Conv2D)            (None, 220, 220, 64)      36928     \n",
            "_________________________________________________________________\n",
            "conv2d_8 (Conv2D)            (None, 218, 218, 64)      36928     \n",
            "_________________________________________________________________\n",
            "max_pooling2d (MaxPooling2D) (None, 109, 109, 64)      0         \n",
            "_________________________________________________________________\n",
            "conv2d_9 (Conv2D)            (None, 107, 107, 128)     73856     \n",
            "_________________________________________________________________\n",
            "conv2d_10 (Conv2D)           (None, 105, 105, 128)     147584    \n",
            "_________________________________________________________________\n",
            "conv2d_11 (Conv2D)           (None, 103, 103, 128)     147584    \n",
            "_________________________________________________________________\n",
            "max_pooling2d_1 (MaxPooling2 (None, 51, 51, 128)       0         \n",
            "_________________________________________________________________\n",
            "conv2d_12 (Conv2D)           (None, 49, 49, 256)       295168    \n",
            "_________________________________________________________________\n",
            "conv2d_13 (Conv2D)           (None, 47, 47, 256)       590080    \n",
            "_________________________________________________________________\n",
            "conv2d_14 (Conv2D)           (None, 45, 45, 256)       590080    \n",
            "_________________________________________________________________\n",
            "max_pooling2d_2 (MaxPooling2 (None, 22, 22, 256)       0         \n",
            "_________________________________________________________________\n",
            "conv2d_15 (Conv2D)           (None, 20, 20, 512)       1180160   \n",
            "_________________________________________________________________\n",
            "conv2d_16 (Conv2D)           (None, 18, 18, 512)       2359808   \n",
            "_________________________________________________________________\n",
            "conv2d_17 (Conv2D)           (None, 16, 16, 512)       2359808   \n",
            "_________________________________________________________________\n",
            "max_pooling2d_3 (MaxPooling2 (None, 8, 8, 512)         0         \n",
            "_________________________________________________________________\n",
            "global_average_pooling2d (Gl (None, 512)               0         \n",
            "_________________________________________________________________\n",
            "dense (Dense)                (None, 1)                 513       \n",
            "=================================================================\n",
            "Total params: 7,820,289\n",
            "Trainable params: 7,820,289\n",
            "Non-trainable params: 0\n",
            "_________________________________________________________________\n"
          ],
          "name": "stdout"
        }
      ]
    },
    {
      "cell_type": "code",
      "metadata": {
        "id": "LxrMIFEEQe_U"
      },
      "source": [
        "gan_model = Model(inputs=encoder_input,outputs=[model_gen(encoder_input),critic_model(model_gen(encoder_input))])\r\n",
        "gan_model.compile(optimizer='Adam', loss=['mse','binary_crossentropy'],loss_weights=[.9,.1])"
      ],
      "execution_count": null,
      "outputs": []
    },
    {
      "cell_type": "code",
      "metadata": {
        "colab": {
          "base_uri": "https://localhost:8080/"
        },
        "id": "n9lA9Qs6912_",
        "outputId": "1142af64-70df-4096-8530-b56c022fec01"
      },
      "source": [
        "gan_model.layers[1].summary()\r\n"
      ],
      "execution_count": null,
      "outputs": [
        {
          "output_type": "stream",
          "text": [
            "Model: \"model_3\"\n",
            "__________________________________________________________________________________________________\n",
            "Layer (type)                    Output Shape         Param #     Connected to                     \n",
            "==================================================================================================\n",
            "input_1 (InputLayer)            [(None, 224, 224, 1) 0                                            \n",
            "__________________________________________________________________________________________________\n",
            "model_1 (Functional)            (None, 7, 7, 512)    14714688    input_1[0][0]                    \n",
            "__________________________________________________________________________________________________\n",
            "model_2 (Functional)            (None, 224, 224, 3)  1572114     input_1[0][0]                    \n",
            "                                                                 model_1[0][0]                    \n",
            "==================================================================================================\n",
            "Total params: 16,286,802\n",
            "Trainable params: 1,572,114\n",
            "Non-trainable params: 14,714,688\n",
            "__________________________________________________________________________________________________\n"
          ],
          "name": "stdout"
        }
      ]
    },
    {
      "cell_type": "code",
      "metadata": {
        "id": "NstJfyHS75E4"
      },
      "source": [
        "train_positive = np.ones((X_train.shape[0],1),dtype=np.float32)\r\n",
        "train_negative = np.zeros((X_train.shape[0],1),dtype=np.float32)\r\n",
        "#train_negative = -train_positive\r\n",
        "\r\n",
        "test_positive = np.ones((X_test.shape[0],1),dtype=np.float32)\r\n",
        "test_negative = np.zeros((X_test.shape[0],1),dtype=np.float32)\r\n",
        "#test_negative =-test_positive\r\n"
      ],
      "execution_count": null,
      "outputs": []
    },
    {
      "cell_type": "code",
      "metadata": {
        "colab": {
          "base_uri": "https://localhost:8080/"
        },
        "id": "uu7mfbW18Ue4",
        "outputId": "242debf9-f7fd-4e36-aa7a-e3f3925068e2"
      },
      "source": [
        "train_positive.shape"
      ],
      "execution_count": null,
      "outputs": [
        {
          "output_type": "execute_result",
          "data": {
            "text/plain": [
              "(750, 1)"
            ]
          },
          "metadata": {
            "tags": []
          },
          "execution_count": 11
        }
      ]
    },
    {
      "cell_type": "code",
      "metadata": {
        "colab": {
          "base_uri": "https://localhost:8080/"
        },
        "id": "7UDVKWRj9MfY",
        "outputId": "734163e3-1667-4d54-c007-c2f3fb591516"
      },
      "source": [
        "for iter in range(0,20):\r\n",
        "  gn_op_train=gan_model.layers[1].predict(X_train)\r\n",
        "  gn_op_test=gan_model.layers[1].predict(X_test)\r\n",
        "  gan_model.layers[1].trainable=False\r\n",
        "  gan_model.layers[2].trainable=True\r\n",
        "  gan_model.layers[2].compile(loss='binary_crossentropy', metrics='accuracy', optimizer='Adam')\r\n",
        "  gan_model.layers[2].fit(np.concatenate((Y_train,gn_op_train),axis=0),np.concatenate((train_positive,train_negative),axis=0),\r\n",
        "                          validation_data=(np.concatenate((Y_test,gn_op_test),axis=0),np.concatenate((test_positive,test_negative),axis=0)),\r\n",
        "                          batch_size=16,epochs=5,shuffle=True)\r\n",
        "  gan_model.layers[1].trainable=True\r\n",
        "  gan_model.layers[2].trainable=False\r\n",
        "  gan_model.compile(loss=['mse','binary_crossentropy'],loss_weights=[.9,.1], metrics='accuracy', optimizer='Adam')\r\n",
        "  gan_model.fit(X_train,[Y_train,train_positive],validation_data=(X_test,[Y_test,test_positive]),batch_size=16,epochs=3,shuffle=True)"
      ],
      "execution_count": null,
      "outputs": [
        {
          "output_type": "stream",
          "text": [
            "Epoch 1/5\n",
            "94/94 [==============================] - 39s 326ms/step - loss: 0.8772 - accuracy: 0.4828 - val_loss: 1.1048 - val_accuracy: 0.5000\n",
            "Epoch 2/5\n",
            "94/94 [==============================] - 23s 241ms/step - loss: 0.3029 - accuracy: 0.5155 - val_loss: 0.0364 - val_accuracy: 0.5000\n",
            "Epoch 3/5\n",
            "94/94 [==============================] - 22s 235ms/step - loss: 0.0815 - accuracy: 0.4940 - val_loss: 0.0023 - val_accuracy: 0.5000\n",
            "Epoch 4/5\n",
            "94/94 [==============================] - 22s 233ms/step - loss: 0.0333 - accuracy: 0.5102 - val_loss: 1.2003e-04 - val_accuracy: 0.5000\n",
            "Epoch 5/5\n",
            "94/94 [==============================] - 22s 234ms/step - loss: 0.0668 - accuracy: 0.4973 - val_loss: 0.0046 - val_accuracy: 0.5000\n",
            "Epoch 1/3\n",
            "47/47 [==============================] - 52s 878ms/step - loss: 0.3140 - model_3_loss: 0.2052 - model_4_loss: 1.2927 - model_3_accuracy: 0.6219 - model_4_accuracy: 1.0000 - val_loss: 0.0124 - val_model_3_loss: 0.0138 - val_model_4_loss: 0.0000e+00 - val_model_3_accuracy: 0.8987 - val_model_4_accuracy: 1.0000\n",
            "Epoch 2/3\n",
            "47/47 [==============================] - 30s 630ms/step - loss: 0.0136 - model_3_loss: 0.0151 - model_4_loss: 0.0000e+00 - model_3_accuracy: 0.8905 - model_4_accuracy: 1.0000 - val_loss: 0.0122 - val_model_3_loss: 0.0135 - val_model_4_loss: 0.0000e+00 - val_model_3_accuracy: 0.8769 - val_model_4_accuracy: 1.0000\n",
            "Epoch 3/3\n",
            "47/47 [==============================] - 30s 634ms/step - loss: 0.0124 - model_3_loss: 0.0138 - model_4_loss: 0.0000e+00 - model_3_accuracy: 0.8850 - model_4_accuracy: 1.0000 - val_loss: 0.0121 - val_model_3_loss: 0.0135 - val_model_4_loss: 0.0000e+00 - val_model_3_accuracy: 0.8680 - val_model_4_accuracy: 1.0000\n",
            "Epoch 1/5\n",
            "94/94 [==============================] - 23s 236ms/step - loss: 5.9685 - accuracy: 0.4993 - val_loss: 0.0732 - val_accuracy: 0.5000\n",
            "Epoch 2/5\n",
            "94/94 [==============================] - 22s 234ms/step - loss: 0.4832 - accuracy: 0.5001 - val_loss: 0.1075 - val_accuracy: 0.5000\n",
            "Epoch 3/5\n",
            "94/94 [==============================] - 22s 234ms/step - loss: 0.0996 - accuracy: 0.4795 - val_loss: 0.0107 - val_accuracy: 0.5000\n",
            "Epoch 4/5\n",
            "94/94 [==============================] - 22s 232ms/step - loss: 0.0396 - accuracy: 0.5030 - val_loss: 0.0271 - val_accuracy: 0.5000\n",
            "Epoch 5/5\n",
            "94/94 [==============================] - 22s 232ms/step - loss: 3.9017 - accuracy: 0.4790 - val_loss: 0.8915 - val_accuracy: 0.5000\n",
            "Epoch 1/3\n",
            "47/47 [==============================] - 33s 652ms/step - loss: 0.0383 - model_3_loss: 0.0340 - model_4_loss: 0.0770 - model_3_accuracy: 0.7988 - model_4_accuracy: 1.0000 - val_loss: 0.0151 - val_model_3_loss: 0.0165 - val_model_4_loss: 0.0022 - val_model_3_accuracy: 0.8431 - val_model_4_accuracy: 1.0000\n",
            "Epoch 2/3\n",
            "47/47 [==============================] - 30s 635ms/step - loss: 0.0163 - model_3_loss: 0.0176 - model_4_loss: 0.0052 - model_3_accuracy: 0.8534 - model_4_accuracy: 1.0000 - val_loss: 0.0142 - val_model_3_loss: 0.0151 - val_model_4_loss: 0.0057 - val_model_3_accuracy: 0.8557 - val_model_4_accuracy: 1.0000\n",
            "Epoch 3/3\n",
            "47/47 [==============================] - 30s 632ms/step - loss: 0.0151 - model_3_loss: 0.0162 - model_4_loss: 0.0053 - model_3_accuracy: 0.8586 - model_4_accuracy: 1.0000 - val_loss: 0.0140 - val_model_3_loss: 0.0151 - val_model_4_loss: 0.0041 - val_model_3_accuracy: 0.8526 - val_model_4_accuracy: 1.0000\n",
            "Epoch 1/5\n",
            "94/94 [==============================] - 23s 234ms/step - loss: 0.7107 - accuracy: 0.5149 - val_loss: 0.0826 - val_accuracy: 0.5000\n",
            "Epoch 2/5\n",
            "94/94 [==============================] - 22s 231ms/step - loss: 0.8388 - accuracy: 0.5128 - val_loss: 0.2499 - val_accuracy: 0.5000\n",
            "Epoch 3/5\n",
            "94/94 [==============================] - 22s 230ms/step - loss: 0.2455 - accuracy: 0.4889 - val_loss: 0.0505 - val_accuracy: 0.5000\n",
            "Epoch 4/5\n",
            "94/94 [==============================] - 22s 230ms/step - loss: 0.0592 - accuracy: 0.5077 - val_loss: 0.0201 - val_accuracy: 0.5000\n",
            "Epoch 5/5\n",
            "94/94 [==============================] - 22s 231ms/step - loss: 0.0333 - accuracy: 0.5108 - val_loss: 0.0359 - val_accuracy: 0.5000\n",
            "Epoch 1/3\n",
            "47/47 [==============================] - 32s 649ms/step - loss: 0.0729 - model_3_loss: 0.0150 - model_4_loss: 0.5936 - model_3_accuracy: 0.8994 - model_4_accuracy: 1.0000 - val_loss: 0.0132 - val_model_3_loss: 0.0146 - val_model_4_loss: 0.0000e+00 - val_model_3_accuracy: 0.9120 - val_model_4_accuracy: 1.0000\n",
            "Epoch 2/3\n",
            "47/47 [==============================] - 30s 631ms/step - loss: 0.0145 - model_3_loss: 0.0157 - model_4_loss: 0.0044 - model_3_accuracy: 0.9099 - model_4_accuracy: 1.0000 - val_loss: 0.0129 - val_model_3_loss: 0.0144 - val_model_4_loss: 0.0000e+00 - val_model_3_accuracy: 0.9087 - val_model_4_accuracy: 1.0000\n",
            "Epoch 3/3\n",
            "47/47 [==============================] - 30s 630ms/step - loss: 0.0143 - model_3_loss: 0.0159 - model_4_loss: 0.0000e+00 - model_3_accuracy: 0.8956 - model_4_accuracy: 1.0000 - val_loss: 0.0126 - val_model_3_loss: 0.0140 - val_model_4_loss: 0.0000e+00 - val_model_3_accuracy: 0.9044 - val_model_4_accuracy: 1.0000\n",
            "Epoch 1/5\n",
            "94/94 [==============================] - 23s 232ms/step - loss: 10058.7058 - accuracy: 0.5177 - val_loss: 0.1902 - val_accuracy: 0.5000\n",
            "Epoch 2/5\n",
            "94/94 [==============================] - 22s 231ms/step - loss: 0.2648 - accuracy: 0.5025 - val_loss: 0.1848 - val_accuracy: 0.5000\n",
            "Epoch 3/5\n",
            "94/94 [==============================] - 22s 231ms/step - loss: 0.7353 - accuracy: 0.5017 - val_loss: 0.1867 - val_accuracy: 0.5000\n",
            "Epoch 4/5\n",
            "94/94 [==============================] - 22s 230ms/step - loss: 0.2555 - accuracy: 0.4985 - val_loss: 0.1889 - val_accuracy: 0.5000\n",
            "Epoch 5/5\n",
            "94/94 [==============================] - 22s 230ms/step - loss: 1.6287 - accuracy: 0.5031 - val_loss: 0.1960 - val_accuracy: 0.5000\n",
            "Epoch 1/3\n",
            "47/47 [==============================] - 32s 648ms/step - loss: 0.1997 - model_3_loss: 0.0145 - model_4_loss: 1.8668 - model_3_accuracy: 0.8916 - model_4_accuracy: 1.0000 - val_loss: 0.1991 - val_model_3_loss: 0.0138 - val_model_4_loss: 1.8668 - val_model_3_accuracy: 0.8584 - val_model_4_accuracy: 1.0000\n",
            "Epoch 2/3\n",
            "47/47 [==============================] - 29s 629ms/step - loss: 0.1995 - model_3_loss: 0.0143 - model_4_loss: 1.8668 - model_3_accuracy: 0.8764 - model_4_accuracy: 1.0000 - val_loss: 0.1991 - val_model_3_loss: 0.0138 - val_model_4_loss: 1.8668 - val_model_3_accuracy: 0.8541 - val_model_4_accuracy: 1.0000\n",
            "Epoch 3/3\n",
            "47/47 [==============================] - 29s 626ms/step - loss: 0.1991 - model_3_loss: 0.0138 - model_4_loss: 1.8668 - model_3_accuracy: 0.8815 - model_4_accuracy: 1.0000 - val_loss: 0.1988 - val_model_3_loss: 0.0135 - val_model_4_loss: 1.8668 - val_model_3_accuracy: 0.8624 - val_model_4_accuracy: 1.0000\n",
            "Epoch 1/5\n",
            "94/94 [==============================] - 23s 231ms/step - loss: 13.4054 - accuracy: 0.5041 - val_loss: 0.1173 - val_accuracy: 0.5000\n",
            "Epoch 2/5\n",
            "94/94 [==============================] - 22s 230ms/step - loss: 1.0275 - accuracy: 0.4901 - val_loss: 0.2056 - val_accuracy: 0.5000\n",
            "Epoch 3/5\n",
            "94/94 [==============================] - 22s 231ms/step - loss: 0.2270 - accuracy: 0.4852 - val_loss: 2.5772 - val_accuracy: 0.5000\n",
            "Epoch 4/5\n",
            "94/94 [==============================] - 22s 230ms/step - loss: 0.2418 - accuracy: 0.5185 - val_loss: 0.1076 - val_accuracy: 0.5000\n",
            "Epoch 5/5\n",
            "94/94 [==============================] - 22s 230ms/step - loss: 0.0995 - accuracy: 0.4983 - val_loss: 0.0955 - val_accuracy: 0.5000\n",
            "Epoch 1/3\n",
            "47/47 [==============================] - 32s 645ms/step - loss: 0.1750 - model_3_loss: 0.0150 - model_4_loss: 1.6148 - model_3_accuracy: 0.8854 - model_4_accuracy: 1.0000 - val_loss: 0.0126 - val_model_3_loss: 0.0140 - val_model_4_loss: 0.0000e+00 - val_model_3_accuracy: 0.8796 - val_model_4_accuracy: 1.0000\n",
            "Epoch 2/3\n",
            "47/47 [==============================] - 29s 628ms/step - loss: 0.0199 - model_3_loss: 0.0163 - model_4_loss: 0.0523 - model_3_accuracy: 0.8788 - model_4_accuracy: 1.0000 - val_loss: 0.0122 - val_model_3_loss: 0.0136 - val_model_4_loss: 0.0000e+00 - val_model_3_accuracy: 0.8710 - val_model_4_accuracy: 1.0000\n",
            "Epoch 3/3\n",
            "47/47 [==============================] - 29s 626ms/step - loss: 0.0158 - model_3_loss: 0.0162 - model_4_loss: 0.0115 - model_3_accuracy: 0.8794 - model_4_accuracy: 1.0000 - val_loss: 0.0189 - val_model_3_loss: 0.0210 - val_model_4_loss: 0.0000e+00 - val_model_3_accuracy: 0.9096 - val_model_4_accuracy: 1.0000\n",
            "Epoch 1/5\n",
            "94/94 [==============================] - 23s 235ms/step - loss: 466236.4150 - accuracy: 0.4993 - val_loss: 0.3508 - val_accuracy: 0.5000\n",
            "Epoch 2/5\n",
            "94/94 [==============================] - 22s 235ms/step - loss: 0.3750 - accuracy: 0.5021 - val_loss: 0.3666 - val_accuracy: 0.5000\n",
            "Epoch 3/5\n",
            "94/94 [==============================] - 22s 234ms/step - loss: 0.2373 - accuracy: 0.5022 - val_loss: 0.0833 - val_accuracy: 0.5000\n",
            "Epoch 4/5\n",
            "94/94 [==============================] - 22s 233ms/step - loss: 0.0339 - accuracy: 0.4981 - val_loss: 7.8926e-05 - val_accuracy: 0.5000\n",
            "Epoch 5/5\n",
            "94/94 [==============================] - 22s 233ms/step - loss: 5.8380e-05 - accuracy: 0.5168 - val_loss: 3.7855e-05 - val_accuracy: 0.5000\n",
            "Epoch 1/3\n",
            "47/47 [==============================] - 32s 645ms/step - loss: 0.1733 - model_3_loss: 0.0179 - model_4_loss: 1.5717 - model_3_accuracy: 0.8962 - model_4_accuracy: 1.0000 - val_loss: 0.0120 - val_model_3_loss: 0.0134 - val_model_4_loss: 1.8263e-07 - val_model_3_accuracy: 0.8799 - val_model_4_accuracy: 1.0000\n",
            "Epoch 2/3\n",
            "47/47 [==============================] - 29s 629ms/step - loss: 0.0130 - model_3_loss: 0.0144 - model_4_loss: 1.8263e-07 - model_3_accuracy: 0.8802 - model_4_accuracy: 1.0000 - val_loss: 0.0120 - val_model_3_loss: 0.0133 - val_model_4_loss: 1.8263e-07 - val_model_3_accuracy: 0.8757 - val_model_4_accuracy: 1.0000\n",
            "Epoch 3/3\n",
            "47/47 [==============================] - 29s 629ms/step - loss: 0.0123 - model_3_loss: 0.0136 - model_4_loss: 1.8263e-07 - model_3_accuracy: 0.8904 - model_4_accuracy: 1.0000 - val_loss: 0.0120 - val_model_3_loss: 0.0133 - val_model_4_loss: 1.8263e-07 - val_model_3_accuracy: 0.8716 - val_model_4_accuracy: 1.0000\n",
            "Epoch 1/5\n",
            "94/94 [==============================] - 23s 233ms/step - loss: 1.1251 - accuracy: 0.5050 - val_loss: 0.1419 - val_accuracy: 0.5000\n",
            "Epoch 2/5\n",
            "94/94 [==============================] - 22s 232ms/step - loss: 0.5570 - accuracy: 0.4798 - val_loss: 0.1274 - val_accuracy: 0.5000\n",
            "Epoch 3/5\n",
            "94/94 [==============================] - 22s 232ms/step - loss: 0.2003 - accuracy: 0.5073 - val_loss: 0.0818 - val_accuracy: 0.5000\n",
            "Epoch 4/5\n",
            "94/94 [==============================] - 22s 230ms/step - loss: 0.9182 - accuracy: 0.4850 - val_loss: 0.6935 - val_accuracy: 0.5000\n",
            "Epoch 5/5\n",
            "94/94 [==============================] - 22s 230ms/step - loss: 0.6965 - accuracy: 0.5095 - val_loss: 0.6932 - val_accuracy: 0.5000\n",
            "Epoch 1/3\n",
            "47/47 [==============================] - 32s 646ms/step - loss: 0.0838 - model_3_loss: 0.0154 - model_4_loss: 0.6999 - model_3_accuracy: 0.8850 - model_4_accuracy: 1.0000 - val_loss: 0.0820 - val_model_3_loss: 0.0134 - val_model_4_loss: 0.6999 - val_model_3_accuracy: 0.8730 - val_model_4_accuracy: 1.0000\n",
            "Epoch 2/3\n",
            "47/47 [==============================] - 29s 626ms/step - loss: 0.0823 - model_3_loss: 0.0137 - model_4_loss: 0.6999 - model_3_accuracy: 0.8796 - model_4_accuracy: 1.0000 - val_loss: 0.0821 - val_model_3_loss: 0.0135 - val_model_4_loss: 0.6999 - val_model_3_accuracy: 0.8634 - val_model_4_accuracy: 1.0000\n",
            "Epoch 3/3\n",
            "47/47 [==============================] - 29s 624ms/step - loss: 0.0829 - model_3_loss: 0.0143 - model_4_loss: 0.6999 - model_3_accuracy: 0.8704 - model_4_accuracy: 1.0000 - val_loss: 0.0820 - val_model_3_loss: 0.0134 - val_model_4_loss: 0.6999 - val_model_3_accuracy: 0.8676 - val_model_4_accuracy: 1.0000\n",
            "Epoch 1/5\n",
            "94/94 [==============================] - 22s 231ms/step - loss: 0.7079 - accuracy: 0.4877 - val_loss: 0.6933 - val_accuracy: 0.5000\n",
            "Epoch 2/5\n",
            "94/94 [==============================] - 22s 231ms/step - loss: 0.6946 - accuracy: 0.5120 - val_loss: 0.6932 - val_accuracy: 0.5000\n",
            "Epoch 3/5\n",
            "94/94 [==============================] - 22s 230ms/step - loss: 0.6936 - accuracy: 0.5099 - val_loss: 0.6932 - val_accuracy: 0.5000\n",
            "Epoch 4/5\n",
            "94/94 [==============================] - 22s 230ms/step - loss: 0.6942 - accuracy: 0.4962 - val_loss: 0.6932 - val_accuracy: 0.5000\n",
            "Epoch 5/5\n",
            "94/94 [==============================] - 22s 230ms/step - loss: 0.6937 - accuracy: 0.4930 - val_loss: 0.6931 - val_accuracy: 0.5000\n",
            "Epoch 1/3\n",
            "47/47 [==============================] - 32s 643ms/step - loss: 0.0821 - model_3_loss: 0.0143 - model_4_loss: 0.6927 - model_3_accuracy: 0.8871 - model_4_accuracy: 1.0000 - val_loss: 0.0815 - val_model_3_loss: 0.0136 - val_model_4_loss: 0.6927 - val_model_3_accuracy: 0.8587 - val_model_4_accuracy: 1.0000\n",
            "Epoch 2/3\n",
            "47/47 [==============================] - 29s 627ms/step - loss: 0.0827 - model_3_loss: 0.0149 - model_4_loss: 0.6927 - model_3_accuracy: 0.8757 - model_4_accuracy: 1.0000 - val_loss: 0.0813 - val_model_3_loss: 0.0134 - val_model_4_loss: 0.6927 - val_model_3_accuracy: 0.8668 - val_model_4_accuracy: 1.0000\n",
            "Epoch 3/3\n",
            "47/47 [==============================] - 29s 624ms/step - loss: 0.0817 - model_3_loss: 0.0138 - model_4_loss: 0.6927 - model_3_accuracy: 0.8749 - model_4_accuracy: 1.0000 - val_loss: 0.0813 - val_model_3_loss: 0.0134 - val_model_4_loss: 0.6927 - val_model_3_accuracy: 0.8847 - val_model_4_accuracy: 1.0000\n",
            "Epoch 1/5\n",
            "94/94 [==============================] - 22s 232ms/step - loss: 0.6942 - accuracy: 0.5089 - val_loss: 0.6943 - val_accuracy: 0.5000\n",
            "Epoch 2/5\n",
            "94/94 [==============================] - 22s 231ms/step - loss: 0.6941 - accuracy: 0.4989 - val_loss: 0.6937 - val_accuracy: 0.5000\n",
            "Epoch 3/5\n",
            "94/94 [==============================] - 22s 231ms/step - loss: 0.6934 - accuracy: 0.4923 - val_loss: 0.6931 - val_accuracy: 0.5000\n",
            "Epoch 4/5\n",
            "94/94 [==============================] - 22s 230ms/step - loss: 0.6949 - accuracy: 0.4797 - val_loss: 0.6932 - val_accuracy: 0.5000\n",
            "Epoch 5/5\n",
            "94/94 [==============================] - 22s 230ms/step - loss: 0.6938 - accuracy: 0.5139 - val_loss: 0.6937 - val_accuracy: 0.5000\n",
            "Epoch 1/3\n",
            "47/47 [==============================] - 32s 643ms/step - loss: 0.0862 - model_3_loss: 0.0149 - model_4_loss: 0.7278 - model_3_accuracy: 0.8729 - model_4_accuracy: 1.0000 - val_loss: 0.0849 - val_model_3_loss: 0.0134 - val_model_4_loss: 0.7278 - val_model_3_accuracy: 0.8621 - val_model_4_accuracy: 1.0000\n",
            "Epoch 2/3\n",
            "47/47 [==============================] - 29s 628ms/step - loss: 0.0846 - model_3_loss: 0.0131 - model_4_loss: 0.7278 - model_3_accuracy: 0.8723 - model_4_accuracy: 1.0000 - val_loss: 0.0848 - val_model_3_loss: 0.0133 - val_model_4_loss: 0.7278 - val_model_3_accuracy: 0.8702 - val_model_4_accuracy: 1.0000\n",
            "Epoch 3/3\n",
            "47/47 [==============================] - 29s 625ms/step - loss: 0.0857 - model_3_loss: 0.0143 - model_4_loss: 0.7278 - model_3_accuracy: 0.8708 - model_4_accuracy: 1.0000 - val_loss: 0.0848 - val_model_3_loss: 0.0133 - val_model_4_loss: 0.7278 - val_model_3_accuracy: 0.8671 - val_model_4_accuracy: 1.0000\n",
            "Epoch 1/5\n",
            "94/94 [==============================] - 23s 232ms/step - loss: 0.6934 - accuracy: 0.4835 - val_loss: 0.6973 - val_accuracy: 0.5000\n",
            "Epoch 2/5\n",
            "94/94 [==============================] - 22s 232ms/step - loss: 0.6940 - accuracy: 0.5172 - val_loss: 0.6944 - val_accuracy: 0.5000\n",
            "Epoch 3/5\n",
            "94/94 [==============================] - 22s 231ms/step - loss: 0.6955 - accuracy: 0.5116 - val_loss: 0.6933 - val_accuracy: 0.5000\n",
            "Epoch 4/5\n",
            "94/94 [==============================] - 22s 230ms/step - loss: 0.6935 - accuracy: 0.4946 - val_loss: 0.6933 - val_accuracy: 0.5000\n",
            "Epoch 5/5\n",
            "94/94 [==============================] - 22s 231ms/step - loss: 0.6935 - accuracy: 0.4933 - val_loss: 0.6932 - val_accuracy: 0.5000\n",
            "Epoch 1/3\n",
            "47/47 [==============================] - 32s 644ms/step - loss: 0.0827 - model_3_loss: 0.0152 - model_4_loss: 0.6907 - model_3_accuracy: 0.8787 - model_4_accuracy: 1.0000 - val_loss: 0.0810 - val_model_3_loss: 0.0133 - val_model_4_loss: 0.6907 - val_model_3_accuracy: 0.8700 - val_model_4_accuracy: 1.0000\n",
            "Epoch 2/3\n",
            "47/47 [==============================] - 29s 628ms/step - loss: 0.0824 - model_3_loss: 0.0148 - model_4_loss: 0.6907 - model_3_accuracy: 0.8755 - model_4_accuracy: 1.0000 - val_loss: 0.0811 - val_model_3_loss: 0.0134 - val_model_4_loss: 0.6907 - val_model_3_accuracy: 0.8671 - val_model_4_accuracy: 1.0000\n",
            "Epoch 3/3\n",
            "47/47 [==============================] - 29s 626ms/step - loss: 0.0821 - model_3_loss: 0.0145 - model_4_loss: 0.6907 - model_3_accuracy: 0.8759 - model_4_accuracy: 1.0000 - val_loss: 0.0811 - val_model_3_loss: 0.0133 - val_model_4_loss: 0.6907 - val_model_3_accuracy: 0.8658 - val_model_4_accuracy: 1.0000\n",
            "Epoch 1/5\n",
            "94/94 [==============================] - 23s 232ms/step - loss: 0.6940 - accuracy: 0.5172 - val_loss: 0.6936 - val_accuracy: 0.5000\n",
            "Epoch 2/5\n",
            "94/94 [==============================] - 22s 231ms/step - loss: 0.6948 - accuracy: 0.5057 - val_loss: 0.6938 - val_accuracy: 0.5000\n",
            "Epoch 3/5\n",
            "94/94 [==============================] - 22s 231ms/step - loss: 0.6928 - accuracy: 0.4875 - val_loss: 0.6933 - val_accuracy: 0.5000\n",
            "Epoch 4/5\n",
            "94/94 [==============================] - 22s 231ms/step - loss: 0.6941 - accuracy: 0.4935 - val_loss: 0.6932 - val_accuracy: 0.5000\n",
            "Epoch 5/5\n",
            "94/94 [==============================] - 22s 231ms/step - loss: 0.6935 - accuracy: 0.4937 - val_loss: 0.6932 - val_accuracy: 0.5000\n",
            "Epoch 1/3\n",
            "47/47 [==============================] - 32s 645ms/step - loss: 0.0817 - model_3_loss: 0.0142 - model_4_loss: 0.6893 - model_3_accuracy: 0.8747 - model_4_accuracy: 1.0000 - val_loss: 0.0809 - val_model_3_loss: 0.0133 - val_model_4_loss: 0.6893 - val_model_3_accuracy: 0.8653 - val_model_4_accuracy: 1.0000\n",
            "Epoch 2/3\n",
            "47/47 [==============================] - 29s 629ms/step - loss: 0.0816 - model_3_loss: 0.0141 - model_4_loss: 0.6893 - model_3_accuracy: 0.8691 - model_4_accuracy: 1.0000 - val_loss: 0.0809 - val_model_3_loss: 0.0133 - val_model_4_loss: 0.6893 - val_model_3_accuracy: 0.8726 - val_model_4_accuracy: 1.0000\n",
            "Epoch 3/3\n",
            "47/47 [==============================] - 29s 628ms/step - loss: 0.0820 - model_3_loss: 0.0145 - model_4_loss: 0.6893 - model_3_accuracy: 0.8847 - model_4_accuracy: 1.0000 - val_loss: 0.0809 - val_model_3_loss: 0.0133 - val_model_4_loss: 0.6893 - val_model_3_accuracy: 0.8685 - val_model_4_accuracy: 1.0000\n",
            "Epoch 1/5\n",
            "94/94 [==============================] - 23s 232ms/step - loss: 0.6940 - accuracy: 0.4957 - val_loss: 0.6934 - val_accuracy: 0.5000\n",
            "Epoch 2/5\n",
            "94/94 [==============================] - 22s 231ms/step - loss: 0.6934 - accuracy: 0.5022 - val_loss: 0.6932 - val_accuracy: 0.5000\n",
            "Epoch 3/5\n",
            "94/94 [==============================] - 22s 231ms/step - loss: 0.6935 - accuracy: 0.4995 - val_loss: 0.6932 - val_accuracy: 0.5000\n",
            "Epoch 4/5\n",
            "94/94 [==============================] - 22s 230ms/step - loss: 0.6938 - accuracy: 0.5126 - val_loss: 0.6934 - val_accuracy: 0.5000\n",
            "Epoch 5/5\n",
            "94/94 [==============================] - 22s 230ms/step - loss: 0.6944 - accuracy: 0.5181 - val_loss: 0.6934 - val_accuracy: 0.5000\n",
            "Epoch 1/3\n",
            "47/47 [==============================] - 32s 644ms/step - loss: 0.0846 - model_3_loss: 0.0146 - model_4_loss: 0.7143 - model_3_accuracy: 0.8775 - model_4_accuracy: 1.0000 - val_loss: 0.0834 - val_model_3_loss: 0.0133 - val_model_4_loss: 0.7143 - val_model_3_accuracy: 0.8729 - val_model_4_accuracy: 1.0000\n",
            "Epoch 2/3\n",
            "47/47 [==============================] - 29s 629ms/step - loss: 0.0852 - model_3_loss: 0.0153 - model_4_loss: 0.7143 - model_3_accuracy: 0.8734 - model_4_accuracy: 1.0000 - val_loss: 0.0834 - val_model_3_loss: 0.0133 - val_model_4_loss: 0.7143 - val_model_3_accuracy: 0.8674 - val_model_4_accuracy: 1.0000\n",
            "Epoch 3/3\n",
            "47/47 [==============================] - 29s 625ms/step - loss: 0.0851 - model_3_loss: 0.0151 - model_4_loss: 0.7143 - model_3_accuracy: 0.8782 - model_4_accuracy: 1.0000 - val_loss: 0.0834 - val_model_3_loss: 0.0133 - val_model_4_loss: 0.7143 - val_model_3_accuracy: 0.8681 - val_model_4_accuracy: 1.0000\n",
            "Epoch 1/5\n",
            "94/94 [==============================] - 23s 232ms/step - loss: 0.6922 - accuracy: 0.4745 - val_loss: 0.6941 - val_accuracy: 0.5000\n",
            "Epoch 2/5\n",
            "94/94 [==============================] - 22s 232ms/step - loss: 0.6955 - accuracy: 0.4903 - val_loss: 0.6934 - val_accuracy: 0.5000\n",
            "Epoch 3/5\n",
            "94/94 [==============================] - 22s 230ms/step - loss: 0.6936 - accuracy: 0.5028 - val_loss: 0.6933 - val_accuracy: 0.5000\n",
            "Epoch 4/5\n",
            "94/94 [==============================] - ETA: 0s - loss: 0.6931 - accuracy: 0.4901"
          ],
          "name": "stdout"
        }
      ]
    },
    {
      "cell_type": "code",
      "metadata": {
        "id": "t27jEikX4KOH"
      },
      "source": [
        "gan_model.layers[0]"
      ],
      "execution_count": null,
      "outputs": []
    },
    {
      "cell_type": "code",
      "metadata": {
        "id": "Hw8L7BDQ7nF7"
      },
      "source": [
        "gan_model.output"
      ],
      "execution_count": null,
      "outputs": []
    },
    {
      "cell_type": "code",
      "metadata": {
        "id": "k-HUqoo1xXM1"
      },
      "source": [
        "lab=gan_model.layers[1].predict(X_test)"
      ],
      "execution_count": null,
      "outputs": []
    },
    {
      "cell_type": "code",
      "metadata": {
        "id": "LxzoYi2tGLCF"
      },
      "source": [
        "for i in range(0,225):\r\n",
        "    #print(L.shape)\r\n",
        "    img=lab[i]\r\n",
        "    img=img*100\r\n",
        "    img=lab2rgb(img)\r\n",
        "    img=img*255\r\n",
        "    print(img.shape)\r\n",
        "    imsave('/content/results/'+str(i)+\".jpg\", img.astype(np.uint8))"
      ],
      "execution_count": null,
      "outputs": []
    },
    {
      "cell_type": "code",
      "metadata": {
        "id": "NmMAy87i09Yw"
      },
      "source": [
        "!zip -r /content/results.zip /content/results"
      ],
      "execution_count": null,
      "outputs": []
    },
    {
      "cell_type": "code",
      "metadata": {
        "id": "5UhD2bsz3GDn"
      },
      "source": [
        "import shutil\r\n",
        "\r\n",
        "shutil.rmtree('/content/results')"
      ],
      "execution_count": null,
      "outputs": []
    }
  ]
}