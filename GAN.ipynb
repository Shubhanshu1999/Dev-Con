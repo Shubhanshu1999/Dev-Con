{
  "nbformat": 4,
  "nbformat_minor": 0,
  "metadata": {
    "accelerator": "GPU",
    "colab": {
      "name": "GAN",
      "provenance": [],
      "collapsed_sections": [],
      "toc_visible": true,
      "mount_file_id": "1aFNV1h_ziobreaVBo7Qw3t7lrEMymjS9",
      "authorship_tag": "ABX9TyP6LvWyLqeXUwoGL79EyoFK",
      "include_colab_link": true
    },
    "kernelspec": {
      "display_name": "Python 3",
      "name": "python3"
    }
  },
  "cells": [
    {
      "cell_type": "markdown",
      "metadata": {
        "id": "view-in-github",
        "colab_type": "text"
      },
      "source": [
        "<a href=\"https://colab.research.google.com/github/Shubhanshu1999/Dev-Con/blob/master/GAN.ipynb\" target=\"_parent\"><img src=\"https://colab.research.google.com/assets/colab-badge.svg\" alt=\"Open In Colab\"/></a>"
      ]
    },
    {
      "cell_type": "code",
      "metadata": {
        "id": "zlzUvfw0v-S_"
      },
      "source": [
        "import tensorflow as tf\n",
        "import keras\n",
        "from keras.preprocessing import image\n",
        "from keras.engine import Layer\n",
        "from keras.layers import Conv2D, Conv3D, UpSampling2D, InputLayer, Conv2DTranspose, Input, Reshape, merge, Concatenate, MaxPooling2D, GlobalAveragePooling2D\n",
        "from keras.layers import Activation, Dense, Dropout, Flatten, Lambda\n",
        "from keras.layers.normalization import BatchNormalization\n",
        "from keras.callbacks import TensorBoard\n",
        "from keras.models import Sequential, Model\n",
        "from keras.preprocessing.image import ImageDataGenerator, array_to_img, img_to_array, load_img\n",
        "from skimage.color import rgb2lab, lab2rgb, rgb2gray, gray2rgb\n",
        "from skimage.transform import resize\n",
        "from skimage.io import imsave\n",
        "from time import time\n",
        "import numpy as np\n",
        "import os\n",
        "import random\n",
        "from PIL import Image, ImageFile"
      ],
      "execution_count": null,
      "outputs": []
    },
    {
      "cell_type": "code",
      "metadata": {
        "id": "TtxrhIMO2CfT"
      },
      "source": [
        "import scipy.io as scio\n",
        "mat=scio.loadmat('/content/drive/MyDrive/final_year_project/folder/data0.mat')\n",
        "X_train=mat['Data_input']\n",
        "Y_train=mat['Data_output']\n",
        "for i in range(1,10):\n",
        "  mat=scio.loadmat('/content/drive/MyDrive/final_year_project/folder/data'+str(i)+'.mat')\n",
        "  X_train=np.concatenate((X_train,mat['Data_input']),axis=0)\n",
        "  Y_train=np.concatenate((Y_train,mat['Data_output']),axis=0)\n",
        "X_train=X_train.astype('float32')/100\n",
        "Y_train=Y_train.astype('float32')/100\n",
        "X_train=np.expand_dims(X_train,axis=-1)\n",
        "\n",
        "mat=scio.loadmat('/content/drive/MyDrive/final_year_project/folder/data10.mat')\n",
        "X_test=mat['Data_input']\n",
        "Y_test=mat['Data_output']\n",
        "for i in range(11,13):\n",
        "  mat=scio.loadmat('/content/drive/MyDrive/final_year_project/folder/data'+str(i)+'.mat')\n",
        "  X_test=np.concatenate((X_test,mat['Data_input']),axis=0)\n",
        "  Y_test=np.concatenate((Y_test,mat['Data_output']),axis=0)\n",
        "X_test=X_test.astype('float32')/100\n",
        "Y_test=Y_test.astype('float32')/100\n",
        "X_test=np.expand_dims(X_test,axis=-1)\n"
      ],
      "execution_count": null,
      "outputs": []
    },
    {
      "cell_type": "code",
      "metadata": {
        "id": "YeWDy2bqw7a9",
        "colab": {
          "base_uri": "https://localhost:8080/"
        },
        "outputId": "bca726d9-3503-42ec-8c4d-4d3a473daf79"
      },
      "source": [
        "#Encoder\n",
        "encoder_input = Input(shape=(224,224,1))\n",
        "vggmodel = keras.applications.vgg16.VGG16()\n",
        "newmodel = Sequential() \n",
        "#newmodel.add(Input(shape=(224,224,1)))\n",
        "#newmodel.add(Concatenate(axis=-1)([encoder_input,encoder_input,encoder_input]))\n",
        "num = 0\n",
        "for i, layer in enumerate(vggmodel.layers):\n",
        "    if i<19:\n",
        "      newmodel.add(layer)\n",
        "for layer in newmodel.layers:\n",
        "  layer.trainable=False\n",
        "\n",
        "x = Concatenate(axis=-1)([encoder_input,encoder_input,encoder_input])\n",
        "model_tmp = Model(inputs=encoder_input, outputs=x)\n",
        "model_tmp.compile(optimizer='Adam', loss='mse')\n",
        "model_encoder=Model(inputs=encoder_input,outputs=newmodel(model_tmp(encoder_input)))\n",
        "model_encoder.compile(optimizer='Adam', loss='mse')\n",
        "model_encoder.summary()\n",
        "\n",
        "\n",
        "#Decoder\n",
        "decoder_input = Input(shape=(7,7,512))\n",
        "decoder_output = Conv2D(256, (3,3), activation='relu', padding='same')(decoder_input)\n",
        "decoder_output = Conv2D(128, (3,3), activation='relu', padding='same')(decoder_output)\n",
        "decoder_output = UpSampling2D((2, 2))(decoder_output)\n",
        "decoder_output = Conv2D(64, (3,3), activation='relu', padding='same')(decoder_output)\n",
        "decoder_output = UpSampling2D((2, 2))(decoder_output)\n",
        "decoder_output = Conv2D(32, (3,3), activation='relu', padding='same')(decoder_output)\n",
        "decoder_output = UpSampling2D((2, 2))(decoder_output)\n",
        "decoder_output = Conv2D(16, (3,3), activation='relu', padding='same')(decoder_output)\n",
        "decoder_output = UpSampling2D((2, 2))(decoder_output)\n",
        "decoder_output = Conv2D(2, (3, 3), activation='tanh', padding='same')(decoder_output)\n",
        "decoder_output = UpSampling2D((2, 2))(decoder_output)\n",
        "decoder_output = Concatenate(axis=-1)([encoder_input,decoder_output])\n",
        "model_decoder=Model(inputs=[encoder_input,decoder_input],outputs=decoder_output)\n",
        "model_decoder.compile(optimizer='Adam', loss='mse')\n",
        "model_decoder.summary()\n",
        "model_gen = Model(inputs=encoder_input, outputs=model_decoder([encoder_input,model_encoder(encoder_input)]))\n",
        "model_gen.summary()"
      ],
      "execution_count": null,
      "outputs": [
        {
          "output_type": "stream",
          "text": [
            "Model: \"model_9\"\n",
            "_________________________________________________________________\n",
            "Layer (type)                 Output Shape              Param #   \n",
            "=================================================================\n",
            "input_7 (InputLayer)         [(None, 224, 224, 1)]     0         \n",
            "_________________________________________________________________\n",
            "model_8 (Functional)         (None, 224, 224, 3)       0         \n",
            "_________________________________________________________________\n",
            "sequential_2 (Sequential)    (None, 7, 7, 512)         14714688  \n",
            "=================================================================\n",
            "Total params: 14,714,688\n",
            "Trainable params: 0\n",
            "Non-trainable params: 14,714,688\n",
            "_________________________________________________________________\n",
            "Model: \"model_10\"\n",
            "__________________________________________________________________________________________________\n",
            "Layer (type)                    Output Shape         Param #     Connected to                     \n",
            "==================================================================================================\n",
            "input_9 (InputLayer)            [(None, 7, 7, 512)]  0                                            \n",
            "__________________________________________________________________________________________________\n",
            "conv2d_12 (Conv2D)              (None, 7, 7, 256)    1179904     input_9[0][0]                    \n",
            "__________________________________________________________________________________________________\n",
            "conv2d_13 (Conv2D)              (None, 7, 7, 128)    295040      conv2d_12[0][0]                  \n",
            "__________________________________________________________________________________________________\n",
            "up_sampling2d_10 (UpSampling2D) (None, 14, 14, 128)  0           conv2d_13[0][0]                  \n",
            "__________________________________________________________________________________________________\n",
            "conv2d_14 (Conv2D)              (None, 14, 14, 64)   73792       up_sampling2d_10[0][0]           \n",
            "__________________________________________________________________________________________________\n",
            "up_sampling2d_11 (UpSampling2D) (None, 28, 28, 64)   0           conv2d_14[0][0]                  \n",
            "__________________________________________________________________________________________________\n",
            "conv2d_15 (Conv2D)              (None, 28, 28, 32)   18464       up_sampling2d_11[0][0]           \n",
            "__________________________________________________________________________________________________\n",
            "up_sampling2d_12 (UpSampling2D) (None, 56, 56, 32)   0           conv2d_15[0][0]                  \n",
            "__________________________________________________________________________________________________\n",
            "conv2d_16 (Conv2D)              (None, 56, 56, 16)   4624        up_sampling2d_12[0][0]           \n",
            "__________________________________________________________________________________________________\n",
            "up_sampling2d_13 (UpSampling2D) (None, 112, 112, 16) 0           conv2d_16[0][0]                  \n",
            "__________________________________________________________________________________________________\n",
            "conv2d_17 (Conv2D)              (None, 112, 112, 2)  290         up_sampling2d_13[0][0]           \n",
            "__________________________________________________________________________________________________\n",
            "input_7 (InputLayer)            [(None, 224, 224, 1) 0                                            \n",
            "__________________________________________________________________________________________________\n",
            "up_sampling2d_14 (UpSampling2D) (None, 224, 224, 2)  0           conv2d_17[0][0]                  \n",
            "__________________________________________________________________________________________________\n",
            "concatenate_5 (Concatenate)     (None, 224, 224, 3)  0           input_7[0][0]                    \n",
            "                                                                 up_sampling2d_14[0][0]           \n",
            "==================================================================================================\n",
            "Total params: 1,572,114\n",
            "Trainable params: 1,572,114\n",
            "Non-trainable params: 0\n",
            "__________________________________________________________________________________________________\n",
            "Model: \"model_11\"\n",
            "__________________________________________________________________________________________________\n",
            "Layer (type)                    Output Shape         Param #     Connected to                     \n",
            "==================================================================================================\n",
            "input_7 (InputLayer)            [(None, 224, 224, 1) 0                                            \n",
            "__________________________________________________________________________________________________\n",
            "model_9 (Functional)            (None, 7, 7, 512)    14714688    input_7[0][0]                    \n",
            "__________________________________________________________________________________________________\n",
            "model_10 (Functional)           (None, 224, 224, 3)  1572114     input_7[0][0]                    \n",
            "                                                                 model_9[0][0]                    \n",
            "==================================================================================================\n",
            "Total params: 16,286,802\n",
            "Trainable params: 1,572,114\n",
            "Non-trainable params: 14,714,688\n",
            "__________________________________________________________________________________________________\n"
          ],
          "name": "stdout"
        }
      ]
    },
    {
      "cell_type": "code",
      "metadata": {
        "colab": {
          "base_uri": "https://localhost:8080/"
        },
        "id": "PkTjIjY84_UW",
        "outputId": "bbeb4e25-6b55-4c98-e35b-352f08600b7c"
      },
      "source": [
        "model_encoder.summary()"
      ],
      "execution_count": null,
      "outputs": [
        {
          "output_type": "stream",
          "text": [
            "Model: \"model_9\"\n",
            "_________________________________________________________________\n",
            "Layer (type)                 Output Shape              Param #   \n",
            "=================================================================\n",
            "input_7 (InputLayer)         [(None, 224, 224, 1)]     0         \n",
            "_________________________________________________________________\n",
            "model_8 (Functional)         (None, 224, 224, 3)       0         \n",
            "_________________________________________________________________\n",
            "sequential_2 (Sequential)    (None, 7, 7, 512)         14714688  \n",
            "=================================================================\n",
            "Total params: 14,714,688\n",
            "Trainable params: 0\n",
            "Non-trainable params: 14,714,688\n",
            "_________________________________________________________________\n"
          ],
          "name": "stdout"
        }
      ]
    },
    {
      "cell_type": "code",
      "metadata": {
        "colab": {
          "base_uri": "https://localhost:8080/"
        },
        "id": "OkhxxhECDHIM",
        "outputId": "4e043692-626f-42a2-bc83-bdaa29ae00a4"
      },
      "source": [
        "model_decoder.summary()"
      ],
      "execution_count": null,
      "outputs": [
        {
          "output_type": "stream",
          "text": [
            "Model: \"model_10\"\n",
            "__________________________________________________________________________________________________\n",
            "Layer (type)                    Output Shape         Param #     Connected to                     \n",
            "==================================================================================================\n",
            "input_9 (InputLayer)            [(None, 7, 7, 512)]  0                                            \n",
            "__________________________________________________________________________________________________\n",
            "conv2d_12 (Conv2D)              (None, 7, 7, 256)    1179904     input_9[0][0]                    \n",
            "__________________________________________________________________________________________________\n",
            "conv2d_13 (Conv2D)              (None, 7, 7, 128)    295040      conv2d_12[0][0]                  \n",
            "__________________________________________________________________________________________________\n",
            "up_sampling2d_10 (UpSampling2D) (None, 14, 14, 128)  0           conv2d_13[0][0]                  \n",
            "__________________________________________________________________________________________________\n",
            "conv2d_14 (Conv2D)              (None, 14, 14, 64)   73792       up_sampling2d_10[0][0]           \n",
            "__________________________________________________________________________________________________\n",
            "up_sampling2d_11 (UpSampling2D) (None, 28, 28, 64)   0           conv2d_14[0][0]                  \n",
            "__________________________________________________________________________________________________\n",
            "conv2d_15 (Conv2D)              (None, 28, 28, 32)   18464       up_sampling2d_11[0][0]           \n",
            "__________________________________________________________________________________________________\n",
            "up_sampling2d_12 (UpSampling2D) (None, 56, 56, 32)   0           conv2d_15[0][0]                  \n",
            "__________________________________________________________________________________________________\n",
            "conv2d_16 (Conv2D)              (None, 56, 56, 16)   4624        up_sampling2d_12[0][0]           \n",
            "__________________________________________________________________________________________________\n",
            "up_sampling2d_13 (UpSampling2D) (None, 112, 112, 16) 0           conv2d_16[0][0]                  \n",
            "__________________________________________________________________________________________________\n",
            "conv2d_17 (Conv2D)              (None, 112, 112, 2)  290         up_sampling2d_13[0][0]           \n",
            "__________________________________________________________________________________________________\n",
            "input_7 (InputLayer)            [(None, 224, 224, 1) 0                                            \n",
            "__________________________________________________________________________________________________\n",
            "up_sampling2d_14 (UpSampling2D) (None, 224, 224, 2)  0           conv2d_17[0][0]                  \n",
            "__________________________________________________________________________________________________\n",
            "concatenate_5 (Concatenate)     (None, 224, 224, 3)  0           input_7[0][0]                    \n",
            "                                                                 up_sampling2d_14[0][0]           \n",
            "==================================================================================================\n",
            "Total params: 1,572,114\n",
            "Trainable params: 1,572,114\n",
            "Non-trainable params: 0\n",
            "__________________________________________________________________________________________________\n"
          ],
          "name": "stdout"
        }
      ]
    },
    {
      "cell_type": "code",
      "metadata": {
        "colab": {
          "base_uri": "https://localhost:8080/"
        },
        "id": "g-1OfRZcaWhy",
        "outputId": "80e84e0b-ef69-45e4-b4e4-99a970a165a0"
      },
      "source": [
        "model_encoder.summary()"
      ],
      "execution_count": null,
      "outputs": [
        {
          "output_type": "stream",
          "text": [
            "Model: \"model_9\"\n",
            "_________________________________________________________________\n",
            "Layer (type)                 Output Shape              Param #   \n",
            "=================================================================\n",
            "input_7 (InputLayer)         [(None, 224, 224, 1)]     0         \n",
            "_________________________________________________________________\n",
            "model_8 (Functional)         (None, 224, 224, 3)       0         \n",
            "_________________________________________________________________\n",
            "sequential_2 (Sequential)    (None, 7, 7, 512)         14714688  \n",
            "=================================================================\n",
            "Total params: 14,714,688\n",
            "Trainable params: 0\n",
            "Non-trainable params: 14,714,688\n",
            "_________________________________________________________________\n"
          ],
          "name": "stdout"
        }
      ]
    },
    {
      "cell_type": "code",
      "metadata": {
        "id": "ghYbZt54w-ju"
      },
      "source": [
        "from keras.callbacks import TensorBoard\n",
        "tensorboard = TensorBoard(log_dir='/content/logs')\n",
        "model_gen.compile(optimizer='Adam', loss='mse' , metrics=['accuracy'])\n",
        "critic_input = Input(shape=(224, 224, 3,))\n",
        "x = Conv2D(64, (3,3), activation='relu')(critic_input)\n",
        "x = Conv2D(64, (3,3), activation='relu')(x)\n",
        "x = Conv2D(64, (3,3), activation='relu')(x)\n",
        "x = MaxPooling2D((2,2))(x)\n",
        "x = Conv2D(128, (3,3), activation='relu')(x)\n",
        "x = Conv2D(128, (3,3), activation='relu')(x)\n",
        "x = Conv2D(128, (3,3), activation='relu')(x)\n",
        "x = MaxPooling2D((2,2))(x)\n",
        "x = Conv2D(256, (3,3), activation='relu')(x)\n",
        "x = Conv2D(256, (3,3), activation='relu')(x)\n",
        "x = Conv2D(256, (3,3), activation='relu')(x)\n",
        "x = MaxPooling2D((2,2))(x)\n",
        "x = Conv2D(512, (3,3), activation='relu')(x)\n",
        "x = Conv2D(512, (3,3), activation='relu')(x)\n",
        "x = Conv2D(512, (3,3), activation='relu')(x)\n",
        "x = MaxPooling2D((2,2))(x)\n",
        "x = GlobalAveragePooling2D()(x)\n",
        "x = Dense(1,activation='softmax')(x)\n",
        "critic_model=Model(inputs=critic_input, outputs=x)\n",
        "critic_model.compile(optimizer='Adam', loss='binary_crossentropy' , metrics=['accuracy'])"
      ],
      "execution_count": null,
      "outputs": []
    },
    {
      "cell_type": "code",
      "metadata": {
        "colab": {
          "base_uri": "https://localhost:8080/"
        },
        "id": "8GxBzeBTMWsN",
        "outputId": "be2bf406-4b88-4518-896b-8022a45a3a95"
      },
      "source": [
        "critic_model.summary()"
      ],
      "execution_count": null,
      "outputs": [
        {
          "output_type": "stream",
          "text": [
            "Model: \"model_12\"\n",
            "_________________________________________________________________\n",
            "Layer (type)                 Output Shape              Param #   \n",
            "=================================================================\n",
            "input_10 (InputLayer)        [(None, 224, 224, 3)]     0         \n",
            "_________________________________________________________________\n",
            "conv2d_18 (Conv2D)           (None, 222, 222, 64)      1792      \n",
            "_________________________________________________________________\n",
            "conv2d_19 (Conv2D)           (None, 220, 220, 64)      36928     \n",
            "_________________________________________________________________\n",
            "conv2d_20 (Conv2D)           (None, 218, 218, 64)      36928     \n",
            "_________________________________________________________________\n",
            "max_pooling2d (MaxPooling2D) (None, 109, 109, 64)      0         \n",
            "_________________________________________________________________\n",
            "conv2d_21 (Conv2D)           (None, 107, 107, 128)     73856     \n",
            "_________________________________________________________________\n",
            "conv2d_22 (Conv2D)           (None, 105, 105, 128)     147584    \n",
            "_________________________________________________________________\n",
            "conv2d_23 (Conv2D)           (None, 103, 103, 128)     147584    \n",
            "_________________________________________________________________\n",
            "max_pooling2d_1 (MaxPooling2 (None, 51, 51, 128)       0         \n",
            "_________________________________________________________________\n",
            "conv2d_24 (Conv2D)           (None, 49, 49, 256)       295168    \n",
            "_________________________________________________________________\n",
            "conv2d_25 (Conv2D)           (None, 47, 47, 256)       590080    \n",
            "_________________________________________________________________\n",
            "conv2d_26 (Conv2D)           (None, 45, 45, 256)       590080    \n",
            "_________________________________________________________________\n",
            "max_pooling2d_2 (MaxPooling2 (None, 22, 22, 256)       0         \n",
            "_________________________________________________________________\n",
            "conv2d_27 (Conv2D)           (None, 20, 20, 512)       1180160   \n",
            "_________________________________________________________________\n",
            "conv2d_28 (Conv2D)           (None, 18, 18, 512)       2359808   \n",
            "_________________________________________________________________\n",
            "conv2d_29 (Conv2D)           (None, 16, 16, 512)       2359808   \n",
            "_________________________________________________________________\n",
            "max_pooling2d_3 (MaxPooling2 (None, 8, 8, 512)         0         \n",
            "_________________________________________________________________\n",
            "global_average_pooling2d (Gl (None, 512)               0         \n",
            "_________________________________________________________________\n",
            "dense (Dense)                (None, 1)                 513       \n",
            "=================================================================\n",
            "Total params: 7,820,289\n",
            "Trainable params: 7,820,289\n",
            "Non-trainable params: 0\n",
            "_________________________________________________________________\n"
          ],
          "name": "stdout"
        }
      ]
    },
    {
      "cell_type": "code",
      "metadata": {
        "id": "LxrMIFEEQe_U"
      },
      "source": [
        "gan_model = Model(inputs=encoder_input,outputs=[model_gen(encoder_input),critic_model(model_gen(encoder_input))])\n",
        "gan_model.compile(optimizer='Adam', loss=['mse','binary_crossentropy'],loss_weights=[.9,.1])"
      ],
      "execution_count": null,
      "outputs": []
    },
    {
      "cell_type": "code",
      "metadata": {
        "colab": {
          "base_uri": "https://localhost:8080/"
        },
        "id": "n9lA9Qs6912_",
        "outputId": "2e32082d-2a0f-46b2-d0a5-b67ff7f7125f"
      },
      "source": [
        "gan_model.layers[1].summary()\n"
      ],
      "execution_count": null,
      "outputs": [
        {
          "output_type": "stream",
          "text": [
            "Model: \"model_11\"\n",
            "__________________________________________________________________________________________________\n",
            "Layer (type)                    Output Shape         Param #     Connected to                     \n",
            "==================================================================================================\n",
            "input_7 (InputLayer)            [(None, 224, 224, 1) 0                                            \n",
            "__________________________________________________________________________________________________\n",
            "model_9 (Functional)            (None, 7, 7, 512)    14714688    input_7[0][0]                    \n",
            "__________________________________________________________________________________________________\n",
            "model_10 (Functional)           (None, 224, 224, 3)  1572114     input_7[0][0]                    \n",
            "                                                                 model_9[0][0]                    \n",
            "==================================================================================================\n",
            "Total params: 16,286,802\n",
            "Trainable params: 1,572,114\n",
            "Non-trainable params: 14,714,688\n",
            "__________________________________________________________________________________________________\n"
          ],
          "name": "stdout"
        }
      ]
    },
    {
      "cell_type": "code",
      "metadata": {
        "id": "NstJfyHS75E4"
      },
      "source": [
        "train_positive = np.ones((X_train.shape[0],1),dtype=np.float32)\n",
        "train_negative = np.zeros((X_train.shape[0],1),dtype=np.float32)\n",
        "#train_negative = -train_positive\n",
        "\n",
        "test_positive = np.ones((X_test.shape[0],1),dtype=np.float32)\n",
        "test_negative = np.zeros((X_test.shape[0],1),dtype=np.float32)\n",
        "#test_negative =-test_positive\n"
      ],
      "execution_count": null,
      "outputs": []
    },
    {
      "cell_type": "code",
      "metadata": {
        "colab": {
          "base_uri": "https://localhost:8080/"
        },
        "id": "uu7mfbW18Ue4",
        "outputId": "c59fbdb7-cd03-4e80-fea5-5aeabecc6151"
      },
      "source": [
        "train_positive.shape"
      ],
      "execution_count": null,
      "outputs": [
        {
          "output_type": "execute_result",
          "data": {
            "text/plain": [
              "(750, 1)"
            ]
          },
          "metadata": {
            "tags": []
          },
          "execution_count": 16
        }
      ]
    },
    {
      "cell_type": "code",
      "metadata": {
        "id": "7UDVKWRj9MfY",
        "colab": {
          "base_uri": "https://localhost:8080/"
        },
        "outputId": "8d45f309-a2b5-4470-8f09-3a5b0516660e"
      },
      "source": [
        "for iter in range(0,15):\n",
        "  gn_op_train=gan_model.layers[1].predict(X_train)\n",
        "  gn_op_test=gan_model.layers[1].predict(X_test)\n",
        "  gan_model.layers[1].trainable=False\n",
        "  gan_model.layers[2].trainable=True\n",
        "  gan_model.layers[2].compile(loss='binary_crossentropy', metrics='accuracy', optimizer='Adam')\n",
        "  gan_model.layers[2].fit(np.concatenate((Y_train,gn_op_train),axis=0),np.concatenate((train_positive,train_negative),axis=0),\n",
        "                          validation_data=(np.concatenate((Y_test,gn_op_test),axis=0),np.concatenate((test_positive,test_negative),axis=0)),\n",
        "                          batch_size=16,epochs=5,shuffle=True)\n",
        "  gan_model.layers[1].trainable=True\n",
        "  gan_model.layers[2].trainable=False\n",
        "  gan_model.compile(loss=['mse','binary_crossentropy'],loss_weights=[.9,.1], metrics='accuracy', optimizer='Adam')\n",
        "  gan_model.fit(X_train,[Y_train,train_positive],validation_data=(X_test,[Y_test,test_positive]),batch_size=16,epochs=3,shuffle=True)"
      ],
      "execution_count": null,
      "outputs": [
        {
          "output_type": "stream",
          "text": [
            "Epoch 1/5\n",
            "94/94 [==============================] - 36s 301ms/step - loss: 0.6255 - accuracy: 0.5000 - val_loss: 0.0825 - val_accuracy: 0.5000\n",
            "Epoch 2/5\n",
            "94/94 [==============================] - 20s 218ms/step - loss: 0.0728 - accuracy: 0.4679 - val_loss: 0.0407 - val_accuracy: 0.5000\n",
            "Epoch 3/5\n",
            "94/94 [==============================] - 20s 218ms/step - loss: 2.7332 - accuracy: 0.5062 - val_loss: 0.0826 - val_accuracy: 0.5000\n",
            "Epoch 4/5\n",
            "94/94 [==============================] - 20s 217ms/step - loss: 29.2513 - accuracy: 0.4661 - val_loss: 0.6035 - val_accuracy: 0.5000\n",
            "Epoch 5/5\n",
            "94/94 [==============================] - 21s 219ms/step - loss: 258.9368 - accuracy: 0.4767 - val_loss: 0.6936 - val_accuracy: 0.5000\n",
            "Epoch 1/3\n",
            "47/47 [==============================] - 48s 808ms/step - loss: 0.1259 - model_11_loss: 0.0647 - model_12_loss: 0.6767 - model_11_accuracy: 0.8112 - model_12_accuracy: 1.0000 - val_loss: 0.0816 - val_model_11_loss: 0.0142 - val_model_12_loss: 0.6876 - val_model_11_accuracy: 0.9052 - val_model_12_accuracy: 1.0000\n",
            "Epoch 2/3\n",
            "47/47 [==============================] - 27s 577ms/step - loss: 0.0824 - model_11_loss: 0.0152 - model_12_loss: 0.6876 - model_11_accuracy: 0.9141 - model_12_accuracy: 1.0000 - val_loss: 0.0812 - val_model_11_loss: 0.0139 - val_model_12_loss: 0.6876 - val_model_11_accuracy: 0.9007 - val_model_12_accuracy: 1.0000\n",
            "Epoch 3/3\n",
            "47/47 [==============================] - 27s 578ms/step - loss: 0.0815 - model_11_loss: 0.0141 - model_12_loss: 0.6877 - model_11_accuracy: 0.8990 - model_12_accuracy: 1.0000 - val_loss: 0.0810 - val_model_11_loss: 0.0136 - val_model_12_loss: 0.6878 - val_model_11_accuracy: 0.8683 - val_model_12_accuracy: 1.0000\n",
            "Epoch 1/5\n",
            "94/94 [==============================] - 22s 223ms/step - loss: 0.6624 - accuracy: 0.5119 - val_loss: 0.1697 - val_accuracy: 0.5000\n",
            "Epoch 2/5\n",
            "94/94 [==============================] - 21s 221ms/step - loss: 0.8699 - accuracy: 0.4844 - val_loss: 0.0210 - val_accuracy: 0.5000\n",
            "Epoch 3/5\n",
            "94/94 [==============================] - 21s 221ms/step - loss: 3.6740 - accuracy: 0.5126 - val_loss: 0.2227 - val_accuracy: 0.5000\n",
            "Epoch 4/5\n",
            "94/94 [==============================] - 21s 221ms/step - loss: 2.9974 - accuracy: 0.4914 - val_loss: 3.6048 - val_accuracy: 0.5000\n",
            "Epoch 5/5\n",
            "94/94 [==============================] - 21s 221ms/step - loss: 0.4759 - accuracy: 0.4817 - val_loss: 4.2089 - val_accuracy: 0.5000\n",
            "Epoch 1/3\n",
            "47/47 [==============================] - 30s 599ms/step - loss: 0.0584 - model_11_loss: 0.0150 - model_12_loss: 0.4486 - model_11_accuracy: 0.9020 - model_12_accuracy: 1.0000 - val_loss: 0.0126 - val_model_11_loss: 0.0140 - val_model_12_loss: 0.0000e+00 - val_model_11_accuracy: 0.9031 - val_model_12_accuracy: 1.0000\n",
            "Epoch 2/3\n",
            "47/47 [==============================] - 27s 582ms/step - loss: 0.0146 - model_11_loss: 0.0143 - model_12_loss: 0.0172 - model_11_accuracy: 0.8950 - model_12_accuracy: 1.0000 - val_loss: 0.0126 - val_model_11_loss: 0.0140 - val_model_12_loss: 0.0000e+00 - val_model_11_accuracy: 0.8995 - val_model_12_accuracy: 1.0000\n",
            "Epoch 3/3\n",
            "47/47 [==============================] - 27s 582ms/step - loss: 0.0169 - model_11_loss: 0.0153 - model_12_loss: 0.0312 - model_11_accuracy: 0.8953 - model_12_accuracy: 1.0000 - val_loss: 0.0129 - val_model_11_loss: 0.0144 - val_model_12_loss: 0.0000e+00 - val_model_11_accuracy: 0.9054 - val_model_12_accuracy: 1.0000\n",
            "Epoch 1/5\n",
            "94/94 [==============================] - 22s 223ms/step - loss: 797.8162 - accuracy: 0.5002 - val_loss: 0.1166 - val_accuracy: 0.5000\n",
            "Epoch 2/5\n",
            "94/94 [==============================] - 21s 221ms/step - loss: 0.0937 - accuracy: 0.5105 - val_loss: 0.0405 - val_accuracy: 0.5000\n",
            "Epoch 3/5\n",
            "94/94 [==============================] - 21s 221ms/step - loss: 0.0957 - accuracy: 0.4824 - val_loss: 0.0822 - val_accuracy: 0.5000\n",
            "Epoch 4/5\n",
            "94/94 [==============================] - 21s 222ms/step - loss: 0.1023 - accuracy: 0.5022 - val_loss: 2.3647e-04 - val_accuracy: 0.5000\n",
            "Epoch 5/5\n",
            "94/94 [==============================] - 21s 221ms/step - loss: 0.2057 - accuracy: 0.5036 - val_loss: 5.2525e-04 - val_accuracy: 0.5000\n",
            "Epoch 1/3\n",
            "47/47 [==============================] - 30s 601ms/step - loss: 0.5539 - model_11_loss: 0.0173 - model_12_loss: 5.3832 - model_11_accuracy: 0.8945 - model_12_accuracy: 1.0000 - val_loss: 0.0312 - val_model_11_loss: 0.0185 - val_model_12_loss: 0.1453 - val_model_11_accuracy: 0.8779 - val_model_12_accuracy: 1.0000\n",
            "Epoch 2/3\n",
            "47/47 [==============================] - 27s 582ms/step - loss: 0.0247 - model_11_loss: 0.0241 - model_12_loss: 0.0298 - model_11_accuracy: 0.8648 - model_12_accuracy: 1.0000 - val_loss: 0.0213 - val_model_11_loss: 0.0237 - val_model_12_loss: 0.0000e+00 - val_model_11_accuracy: 0.8571 - val_model_12_accuracy: 1.0000\n",
            "Epoch 3/3\n",
            "47/47 [==============================] - 27s 583ms/step - loss: 0.0226 - model_11_loss: 0.0251 - model_12_loss: 0.0000e+00 - model_11_accuracy: 0.8666 - model_12_accuracy: 1.0000 - val_loss: 0.0200 - val_model_11_loss: 0.0222 - val_model_12_loss: 0.0000e+00 - val_model_11_accuracy: 0.8665 - val_model_12_accuracy: 1.0000\n",
            "Epoch 1/5\n",
            "94/94 [==============================] - 22s 224ms/step - loss: 1123.4054 - accuracy: 0.5107 - val_loss: 0.2157 - val_accuracy: 0.5000\n",
            "Epoch 2/5\n",
            "94/94 [==============================] - 21s 221ms/step - loss: 0.1413 - accuracy: 0.5055 - val_loss: 0.1897 - val_accuracy: 0.5000\n",
            "Epoch 3/5\n",
            "94/94 [==============================] - 21s 221ms/step - loss: 0.3684 - accuracy: 0.5108 - val_loss: 0.1997 - val_accuracy: 0.5000\n",
            "Epoch 4/5\n",
            "94/94 [==============================] - 21s 221ms/step - loss: 0.1434 - accuracy: 0.4897 - val_loss: 0.1848 - val_accuracy: 0.5000\n",
            "Epoch 5/5\n",
            "94/94 [==============================] - 21s 222ms/step - loss: 0.1432 - accuracy: 0.5014 - val_loss: 0.1750 - val_accuracy: 0.5000\n",
            "Epoch 1/3\n",
            "47/47 [==============================] - 30s 601ms/step - loss: 0.2379 - model_11_loss: 0.0192 - model_12_loss: 2.2063 - model_11_accuracy: 0.8823 - model_12_accuracy: 1.0000 - val_loss: 0.2177 - val_model_11_loss: 0.0151 - val_model_12_loss: 2.0407 - val_model_11_accuracy: 0.8743 - val_model_12_accuracy: 1.0000\n",
            "Epoch 2/3\n",
            "47/47 [==============================] - 27s 583ms/step - loss: 0.2138 - model_11_loss: 0.0160 - model_12_loss: 1.9943 - model_11_accuracy: 0.8710 - model_12_accuracy: 1.0000 - val_loss: 0.1793 - val_model_11_loss: 0.0165 - val_model_12_loss: 1.6443 - val_model_11_accuracy: 0.8536 - val_model_12_accuracy: 1.0000\n",
            "Epoch 3/3\n",
            "47/47 [==============================] - 27s 583ms/step - loss: 0.0916 - model_11_loss: 0.0173 - model_12_loss: 0.7605 - model_11_accuracy: 0.8463 - model_12_accuracy: 1.0000 - val_loss: 0.0340 - val_model_11_loss: 0.0141 - val_model_12_loss: 0.2129 - val_model_11_accuracy: 0.8562 - val_model_12_accuracy: 1.0000\n",
            "Epoch 1/5\n",
            "94/94 [==============================] - 22s 223ms/step - loss: 1196.2233 - accuracy: 0.4924 - val_loss: 0.0813 - val_accuracy: 0.5000\n",
            "Epoch 2/5\n",
            "94/94 [==============================] - 21s 222ms/step - loss: 0.2861 - accuracy: 0.4996 - val_loss: 0.5201 - val_accuracy: 0.5000\n",
            "Epoch 3/5\n",
            "94/94 [==============================] - 21s 221ms/step - loss: 4.8473 - accuracy: 0.5116 - val_loss: 0.5406 - val_accuracy: 0.5000\n",
            "Epoch 4/5\n",
            "94/94 [==============================] - 21s 221ms/step - loss: 0.3313 - accuracy: 0.5267 - val_loss: 0.1410 - val_accuracy: 0.5000\n",
            "Epoch 5/5\n",
            "94/94 [==============================] - 21s 221ms/step - loss: 0.1996 - accuracy: 0.5148 - val_loss: 0.1361 - val_accuracy: 0.5000\n",
            "Epoch 1/3\n",
            "47/47 [==============================] - 30s 600ms/step - loss: 0.1029 - model_11_loss: 0.0216 - model_12_loss: 0.8347 - model_11_accuracy: 0.7945 - model_12_accuracy: 1.0000 - val_loss: 0.0284 - val_model_11_loss: 0.0316 - val_model_12_loss: 0.0000e+00 - val_model_11_accuracy: 0.7236 - val_model_12_accuracy: 1.0000\n",
            "Epoch 2/3\n",
            "47/47 [==============================] - 27s 583ms/step - loss: 0.0243 - model_11_loss: 0.0264 - model_12_loss: 0.0051 - model_11_accuracy: 0.7622 - model_12_accuracy: 1.0000 - val_loss: 0.0325 - val_model_11_loss: 0.0187 - val_model_12_loss: 0.1567 - val_model_11_accuracy: 0.8124 - val_model_12_accuracy: 1.0000\n",
            "Epoch 3/3\n",
            "47/47 [==============================] - 27s 583ms/step - loss: 0.0352 - model_11_loss: 0.0317 - model_12_loss: 0.0664 - model_11_accuracy: 0.7377 - model_12_accuracy: 1.0000 - val_loss: 0.0241 - val_model_11_loss: 0.0222 - val_model_12_loss: 0.0414 - val_model_11_accuracy: 0.7764 - val_model_12_accuracy: 1.0000\n",
            "Epoch 1/5\n",
            "94/94 [==============================] - 22s 223ms/step - loss: 11751.0580 - accuracy: 0.5058 - val_loss: 0.0357 - val_accuracy: 0.5000\n",
            "Epoch 2/5\n",
            "94/94 [==============================] - 21s 222ms/step - loss: 0.0246 - accuracy: 0.4841 - val_loss: 0.0019 - val_accuracy: 0.5000\n",
            "Epoch 3/5\n",
            "94/94 [==============================] - 21s 221ms/step - loss: 0.0101 - accuracy: 0.4994 - val_loss: 0.0011 - val_accuracy: 0.5000\n",
            "Epoch 4/5\n",
            "94/94 [==============================] - 21s 221ms/step - loss: 0.0083 - accuracy: 0.4960 - val_loss: 1.3192e-04 - val_accuracy: 0.5000\n",
            "Epoch 5/5\n",
            "94/94 [==============================] - 21s 221ms/step - loss: 4.7807e-04 - accuracy: 0.5105 - val_loss: 4.2216e-04 - val_accuracy: 0.5000\n",
            "Epoch 1/3\n",
            "47/47 [==============================] - 31s 611ms/step - loss: 0.1177 - model_11_loss: 0.0360 - model_12_loss: 0.8530 - model_11_accuracy: 0.8563 - model_12_accuracy: 1.0000 - val_loss: 0.0156 - val_model_11_loss: 0.0174 - val_model_12_loss: 0.0000e+00 - val_model_11_accuracy: 0.8660 - val_model_12_accuracy: 1.0000\n",
            "Epoch 2/3\n",
            "47/47 [==============================] - 27s 585ms/step - loss: 0.0192 - model_11_loss: 0.0175 - model_12_loss: 0.0341 - model_11_accuracy: 0.8739 - model_12_accuracy: 1.0000 - val_loss: 0.0124 - val_model_11_loss: 0.0138 - val_model_12_loss: 0.0000e+00 - val_model_11_accuracy: 0.8826 - val_model_12_accuracy: 1.0000\n",
            "Epoch 3/3\n",
            "47/47 [==============================] - 27s 584ms/step - loss: 0.0165 - model_11_loss: 0.0160 - model_12_loss: 0.0212 - model_11_accuracy: 0.8826 - model_12_accuracy: 1.0000 - val_loss: 0.0148 - val_model_11_loss: 0.0165 - val_model_12_loss: 0.0000e+00 - val_model_11_accuracy: 0.9037 - val_model_12_accuracy: 1.0000\n",
            "Epoch 1/5\n",
            "94/94 [==============================] - 22s 224ms/step - loss: 254.8516 - accuracy: 0.5203 - val_loss: 0.0114 - val_accuracy: 0.5000\n",
            "Epoch 2/5\n",
            "94/94 [==============================] - 21s 222ms/step - loss: 0.0410 - accuracy: 0.5249 - val_loss: 0.0014 - val_accuracy: 0.5000\n",
            "Epoch 3/5\n",
            "94/94 [==============================] - 21s 222ms/step - loss: 0.0381 - accuracy: 0.5084 - val_loss: 0.2276 - val_accuracy: 0.5000\n",
            "Epoch 4/5\n",
            "94/94 [==============================] - 21s 222ms/step - loss: 0.0517 - accuracy: 0.5046 - val_loss: 0.0844 - val_accuracy: 0.5000\n",
            "Epoch 5/5\n",
            "94/94 [==============================] - 21s 222ms/step - loss: 1.2814e-07 - accuracy: 0.5081 - val_loss: 0.0844 - val_accuracy: 0.5000\n",
            "Epoch 1/3\n",
            "47/47 [==============================] - 30s 603ms/step - loss: 0.1595 - model_11_loss: 0.0147 - model_12_loss: 1.4630 - model_11_accuracy: 0.8778 - model_12_accuracy: 1.0000 - val_loss: 0.0123 - val_model_11_loss: 0.0136 - val_model_12_loss: 0.0000e+00 - val_model_11_accuracy: 0.8791 - val_model_12_accuracy: 1.0000\n",
            "Epoch 2/3\n",
            "47/47 [==============================] - 27s 585ms/step - loss: 0.0125 - model_11_loss: 0.0138 - model_12_loss: 0.0000e+00 - model_11_accuracy: 0.8844 - model_12_accuracy: 1.0000 - val_loss: 0.0123 - val_model_11_loss: 0.0137 - val_model_12_loss: 0.0000e+00 - val_model_11_accuracy: 0.8633 - val_model_12_accuracy: 1.0000\n",
            "Epoch 3/3\n",
            "47/47 [==============================] - 27s 583ms/step - loss: 0.0130 - model_11_loss: 0.0144 - model_12_loss: 0.0000e+00 - model_11_accuracy: 0.8828 - model_12_accuracy: 1.0000 - val_loss: 0.0123 - val_model_11_loss: 0.0137 - val_model_12_loss: 0.0000e+00 - val_model_11_accuracy: 0.8670 - val_model_12_accuracy: 1.0000\n",
            "Epoch 1/5\n",
            "94/94 [==============================] - 22s 224ms/step - loss: 1633.3271 - accuracy: 0.4961 - val_loss: 0.5660 - val_accuracy: 0.5000\n",
            "Epoch 2/5\n",
            "94/94 [==============================] - 21s 222ms/step - loss: 0.5327 - accuracy: 0.5080 - val_loss: 0.4681 - val_accuracy: 0.5000\n",
            "Epoch 3/5\n",
            "94/94 [==============================] - 21s 222ms/step - loss: 0.4870 - accuracy: 0.4742 - val_loss: 0.4209 - val_accuracy: 0.5000\n",
            "Epoch 4/5\n",
            "94/94 [==============================] - 21s 221ms/step - loss: 0.4285 - accuracy: 0.5012 - val_loss: 0.4201 - val_accuracy: 0.5000\n",
            "Epoch 5/5\n",
            "94/94 [==============================] - 21s 222ms/step - loss: 3.5363 - accuracy: 0.4989 - val_loss: 0.6804 - val_accuracy: 0.5000\n",
            "Epoch 1/3\n",
            "47/47 [==============================] - 30s 606ms/step - loss: 0.0979 - model_11_loss: 0.0204 - model_12_loss: 0.7957 - model_11_accuracy: 0.8981 - model_12_accuracy: 1.0000 - val_loss: 0.0697 - val_model_11_loss: 0.0234 - val_model_12_loss: 0.4866 - val_model_11_accuracy: 0.8943 - val_model_12_accuracy: 1.0000\n",
            "Epoch 2/3\n",
            "47/47 [==============================] - 28s 588ms/step - loss: 0.0626 - model_11_loss: 0.0308 - model_12_loss: 0.3489 - model_11_accuracy: 0.8738 - model_12_accuracy: 1.0000 - val_loss: 0.0509 - val_model_11_loss: 0.0328 - val_model_12_loss: 0.2134 - val_model_11_accuracy: 0.8702 - val_model_12_accuracy: 1.0000\n",
            "Epoch 3/3\n",
            "47/47 [==============================] - 27s 585ms/step - loss: 0.0496 - model_11_loss: 0.0312 - model_12_loss: 0.2147 - model_11_accuracy: 0.8775 - model_12_accuracy: 1.0000 - val_loss: 0.0437 - val_model_11_loss: 0.0307 - val_model_12_loss: 0.1611 - val_model_11_accuracy: 0.8759 - val_model_12_accuracy: 1.0000\n",
            "Epoch 1/5\n",
            "94/94 [==============================] - 22s 224ms/step - loss: 15.5708 - accuracy: 0.4771 - val_loss: 0.0014 - val_accuracy: 0.5000\n",
            "Epoch 2/5\n",
            "94/94 [==============================] - 21s 222ms/step - loss: 0.0021 - accuracy: 0.5159 - val_loss: 0.0166 - val_accuracy: 0.5000\n",
            "Epoch 3/5\n",
            "94/94 [==============================] - 21s 221ms/step - loss: 0.0014 - accuracy: 0.5057 - val_loss: 2.5511e-06 - val_accuracy: 0.5000\n",
            "Epoch 4/5\n",
            "94/94 [==============================] - 21s 220ms/step - loss: 3.3051e-06 - accuracy: 0.5188 - val_loss: 1.5424e-06 - val_accuracy: 0.5000\n",
            "Epoch 5/5\n",
            "94/94 [==============================] - 21s 220ms/step - loss: 3.5592e-06 - accuracy: 0.4878 - val_loss: 1.0166e-06 - val_accuracy: 0.5000\n",
            "Epoch 1/3\n",
            "47/47 [==============================] - 31s 603ms/step - loss: 1.1447 - model_11_loss: 0.1628 - model_12_loss: 9.9824 - model_11_accuracy: 0.8971 - model_12_accuracy: 1.0000 - val_loss: 0.0129 - val_model_11_loss: 0.0143 - val_model_12_loss: 5.1378e-07 - val_model_11_accuracy: 0.8808 - val_model_12_accuracy: 1.0000\n",
            "Epoch 2/3\n",
            "47/47 [==============================] - 27s 585ms/step - loss: 0.0133 - model_11_loss: 0.0148 - model_12_loss: 5.9967e-06 - model_11_accuracy: 0.8811 - model_12_accuracy: 1.0000 - val_loss: 0.0123 - val_model_11_loss: 0.0136 - val_model_12_loss: 1.2399e-06 - val_model_11_accuracy: 0.8741 - val_model_12_accuracy: 1.0000\n",
            "Epoch 3/3\n",
            "47/47 [==============================] - 27s 583ms/step - loss: 0.0133 - model_11_loss: 0.0148 - model_12_loss: 2.4641e-06 - model_11_accuracy: 0.8789 - model_12_accuracy: 1.0000 - val_loss: 0.0122 - val_model_11_loss: 0.0136 - val_model_12_loss: 8.3032e-08 - val_model_11_accuracy: 0.8786 - val_model_12_accuracy: 1.0000\n",
            "Epoch 1/5\n",
            "94/94 [==============================] - 22s 223ms/step - loss: 3.0929 - accuracy: 0.5049 - val_loss: 0.7525 - val_accuracy: 0.5000\n",
            "Epoch 2/5\n",
            "94/94 [==============================] - 21s 222ms/step - loss: 0.9965 - accuracy: 0.4839 - val_loss: 0.3237 - val_accuracy: 0.5000\n",
            "Epoch 3/5\n",
            "94/94 [==============================] - 21s 221ms/step - loss: 10.6729 - accuracy: 0.5021 - val_loss: 0.5766 - val_accuracy: 0.5000\n",
            "Epoch 4/5\n",
            "94/94 [==============================] - 21s 219ms/step - loss: 0.5529 - accuracy: 0.4752 - val_loss: 0.5315 - val_accuracy: 0.5000\n",
            "Epoch 5/5\n",
            "94/94 [==============================] - 21s 219ms/step - loss: 0.5206 - accuracy: 0.5204 - val_loss: 0.3965 - val_accuracy: 0.5000\n",
            "Epoch 1/3\n",
            "47/47 [==============================] - 30s 603ms/step - loss: 0.1215 - model_11_loss: 0.0181 - model_12_loss: 1.0517 - model_11_accuracy: 0.8679 - model_12_accuracy: 1.0000 - val_loss: 0.1269 - val_model_11_loss: 0.0136 - val_model_12_loss: 1.1467 - val_model_11_accuracy: 0.8658 - val_model_12_accuracy: 1.0000\n",
            "Epoch 2/3\n",
            "47/47 [==============================] - 27s 584ms/step - loss: 0.1274 - model_11_loss: 0.0141 - model_12_loss: 1.1467 - model_11_accuracy: 0.8766 - model_12_accuracy: 1.0000 - val_loss: 0.1268 - val_model_11_loss: 0.0134 - val_model_12_loss: 1.1467 - val_model_11_accuracy: 0.8718 - val_model_12_accuracy: 1.0000\n",
            "Epoch 3/3\n",
            "47/47 [==============================] - 27s 584ms/step - loss: 0.1275 - model_11_loss: 0.0142 - model_12_loss: 1.1467 - model_11_accuracy: 0.8817 - model_12_accuracy: 1.0000 - val_loss: 0.1270 - val_model_11_loss: 0.0136 - val_model_12_loss: 1.1467 - val_model_11_accuracy: 0.8716 - val_model_12_accuracy: 1.0000\n",
            "Epoch 1/5\n",
            "94/94 [==============================] - 22s 222ms/step - loss: 0.4301 - accuracy: 0.4782 - val_loss: 0.0289 - val_accuracy: 0.5000\n",
            "Epoch 2/5\n",
            "94/94 [==============================] - 21s 221ms/step - loss: 0.3592 - accuracy: 0.4934 - val_loss: 0.1159 - val_accuracy: 0.5000\n",
            "Epoch 3/5\n",
            "94/94 [==============================] - 21s 221ms/step - loss: 0.2894 - accuracy: 0.4972 - val_loss: 0.2362 - val_accuracy: 0.5000\n",
            "Epoch 4/5\n",
            "94/94 [==============================] - 21s 221ms/step - loss: 0.1937 - accuracy: 0.4878 - val_loss: 0.1974 - val_accuracy: 0.5000\n",
            "Epoch 5/5\n",
            "94/94 [==============================] - 21s 220ms/step - loss: 1.9384 - accuracy: 0.5051 - val_loss: 0.7092 - val_accuracy: 0.5000\n",
            "Epoch 1/3\n",
            "47/47 [==============================] - 30s 604ms/step - loss: 0.1243 - model_11_loss: 0.0145 - model_12_loss: 1.1119 - model_11_accuracy: 0.8758 - model_12_accuracy: 1.0000 - val_loss: 0.1233 - val_model_11_loss: 0.0135 - val_model_12_loss: 1.1119 - val_model_11_accuracy: 0.8757 - val_model_12_accuracy: 1.0000\n",
            "Epoch 2/3\n",
            "47/47 [==============================] - 27s 586ms/step - loss: 0.1241 - model_11_loss: 0.0143 - model_12_loss: 1.1119 - model_11_accuracy: 0.8709 - model_12_accuracy: 1.0000 - val_loss: 0.1235 - val_model_11_loss: 0.0137 - val_model_12_loss: 1.1119 - val_model_11_accuracy: 0.8606 - val_model_12_accuracy: 1.0000\n",
            "Epoch 3/3\n",
            "47/47 [==============================] - 27s 583ms/step - loss: 0.1245 - model_11_loss: 0.0148 - model_12_loss: 1.1119 - model_11_accuracy: 0.8793 - model_12_accuracy: 1.0000 - val_loss: 0.1234 - val_model_11_loss: 0.0136 - val_model_12_loss: 1.1119 - val_model_11_accuracy: 0.8787 - val_model_12_accuracy: 1.0000\n",
            "Epoch 1/5\n",
            "94/94 [==============================] - 22s 222ms/step - loss: 0.3490 - accuracy: 0.4934 - val_loss: 0.0412 - val_accuracy: 0.5000\n",
            "Epoch 2/5\n",
            "94/94 [==============================] - 21s 221ms/step - loss: 1323.7888 - accuracy: 0.5205 - val_loss: 0.6071 - val_accuracy: 0.5000\n",
            "Epoch 3/5\n",
            "94/94 [==============================] - 21s 220ms/step - loss: 0.5950 - accuracy: 0.5182 - val_loss: 0.5839 - val_accuracy: 0.5000\n",
            "Epoch 4/5\n",
            "94/94 [==============================] - 21s 219ms/step - loss: 0.5789 - accuracy: 0.5187 - val_loss: 0.5369 - val_accuracy: 0.5000\n",
            "Epoch 5/5\n",
            "94/94 [==============================] - 21s 220ms/step - loss: 54.3874 - accuracy: 0.5114 - val_loss: 0.5521 - val_accuracy: 0.5000\n",
            "Epoch 1/3\n",
            "47/47 [==============================] - 32s 630ms/step - loss: 0.1134 - model_11_loss: 0.0133 - model_12_loss: 1.0151 - model_11_accuracy: 0.8840 - model_12_accuracy: 1.0000 - val_loss: 0.1135 - val_model_11_loss: 0.0133 - val_model_12_loss: 1.0151 - val_model_11_accuracy: 0.8798 - val_model_12_accuracy: 1.0000\n",
            "Epoch 2/3\n",
            "47/47 [==============================] - 27s 585ms/step - loss: 0.1151 - model_11_loss: 0.0151 - model_12_loss: 1.0151 - model_11_accuracy: 0.8769 - model_12_accuracy: 1.0000 - val_loss: 0.1139 - val_model_11_loss: 0.0137 - val_model_12_loss: 1.0151 - val_model_11_accuracy: 0.8642 - val_model_12_accuracy: 1.0000\n",
            "Epoch 3/3\n",
            "47/47 [==============================] - 27s 583ms/step - loss: 0.1145 - model_11_loss: 0.0145 - model_12_loss: 1.0151 - model_11_accuracy: 0.8740 - model_12_accuracy: 1.0000 - val_loss: 0.1135 - val_model_11_loss: 0.0134 - val_model_12_loss: 1.0151 - val_model_11_accuracy: 0.8849 - val_model_12_accuracy: 1.0000\n",
            "Epoch 1/5\n",
            "94/94 [==============================] - 22s 222ms/step - loss: 0.2498 - accuracy: 0.4808 - val_loss: 0.1539 - val_accuracy: 0.5000\n",
            "Epoch 2/5\n",
            "94/94 [==============================] - 21s 221ms/step - loss: 0.1407 - accuracy: 0.5002 - val_loss: 0.1539 - val_accuracy: 0.5000\n",
            "Epoch 3/5\n",
            "94/94 [==============================] - 21s 221ms/step - loss: 0.1425 - accuracy: 0.5043 - val_loss: 0.1552 - val_accuracy: 0.5000\n",
            "Epoch 4/5\n",
            "94/94 [==============================] - 21s 220ms/step - loss: 0.1251 - accuracy: 0.5179 - val_loss: 0.1539 - val_accuracy: 0.5000\n",
            "Epoch 5/5\n",
            "94/94 [==============================] - 21s 220ms/step - loss: 0.1473 - accuracy: 0.4989 - val_loss: 0.1610 - val_accuracy: 0.5000\n",
            "Epoch 1/3\n",
            "47/47 [==============================] - 30s 604ms/step - loss: 0.3246 - model_11_loss: 0.0152 - model_12_loss: 3.1095 - model_11_accuracy: 0.8707 - model_12_accuracy: 1.0000 - val_loss: 0.3230 - val_model_11_loss: 0.0134 - val_model_12_loss: 3.1095 - val_model_11_accuracy: 0.8698 - val_model_12_accuracy: 1.0000\n",
            "Epoch 2/3\n",
            "47/47 [==============================] - 27s 585ms/step - loss: 0.3242 - model_11_loss: 0.0147 - model_12_loss: 3.1095 - model_11_accuracy: 0.8845 - model_12_accuracy: 1.0000 - val_loss: 0.3230 - val_model_11_loss: 0.0134 - val_model_12_loss: 3.1095 - val_model_11_accuracy: 0.8851 - val_model_12_accuracy: 1.0000\n",
            "Epoch 3/3\n",
            "47/47 [==============================] - 27s 583ms/step - loss: 0.3241 - model_11_loss: 0.0146 - model_12_loss: 3.1095 - model_11_accuracy: 0.8849 - model_12_accuracy: 1.0000 - val_loss: 0.3229 - val_model_11_loss: 0.0133 - val_model_12_loss: 3.1095 - val_model_11_accuracy: 0.8710 - val_model_12_accuracy: 1.0000\n",
            "Epoch 1/5\n",
            "94/94 [==============================] - 22s 222ms/step - loss: 0.8743 - accuracy: 0.5063 - val_loss: 0.5411 - val_accuracy: 0.5000\n",
            "Epoch 2/5\n",
            "94/94 [==============================] - 21s 220ms/step - loss: 0.4410 - accuracy: 0.5058 - val_loss: 0.4407 - val_accuracy: 0.5000\n",
            "Epoch 3/5\n",
            "94/94 [==============================] - 21s 220ms/step - loss: 0.3990 - accuracy: 0.4830 - val_loss: 0.3107 - val_accuracy: 0.5000\n",
            "Epoch 4/5\n",
            "94/94 [==============================] - 21s 220ms/step - loss: 0.2583 - accuracy: 0.5239 - val_loss: 0.2545 - val_accuracy: 0.5000\n",
            "Epoch 5/5\n",
            "94/94 [==============================] - 21s 220ms/step - loss: 0.2181 - accuracy: 0.4937 - val_loss: 0.1549 - val_accuracy: 0.5000\n",
            "Epoch 1/3\n",
            "47/47 [==============================] - 30s 604ms/step - loss: 0.2686 - model_11_loss: 0.0138 - model_12_loss: 2.5616 - model_11_accuracy: 0.8786 - model_12_accuracy: 1.0000 - val_loss: 0.2683 - val_model_11_loss: 0.0135 - val_model_12_loss: 2.5616 - val_model_11_accuracy: 0.8651 - val_model_12_accuracy: 1.0000\n",
            "Epoch 2/3\n",
            "47/47 [==============================] - 27s 586ms/step - loss: 0.2689 - model_11_loss: 0.0141 - model_12_loss: 2.5616 - model_11_accuracy: 0.8830 - model_12_accuracy: 1.0000 - val_loss: 0.2685 - val_model_11_loss: 0.0137 - val_model_12_loss: 2.5616 - val_model_11_accuracy: 0.8591 - val_model_12_accuracy: 1.0000\n",
            "Epoch 3/3\n",
            "47/47 [==============================] - 27s 584ms/step - loss: 0.2689 - model_11_loss: 0.0141 - model_12_loss: 2.5616 - model_11_accuracy: 0.8777 - model_12_accuracy: 1.0000 - val_loss: 0.2681 - val_model_11_loss: 0.0133 - val_model_12_loss: 2.5616 - val_model_11_accuracy: 0.8717 - val_model_12_accuracy: 1.0000\n",
            "Epoch 1/5\n",
            "94/94 [==============================] - 22s 222ms/step - loss: 473.9527 - accuracy: 0.5149 - val_loss: 0.2313 - val_accuracy: 0.5000\n",
            "Epoch 2/5\n",
            "94/94 [==============================] - 21s 221ms/step - loss: 0.2247 - accuracy: 0.5070 - val_loss: 0.0348 - val_accuracy: 0.5000\n",
            "Epoch 3/5\n",
            "94/94 [==============================] - 21s 221ms/step - loss: 0.2472 - accuracy: 0.5177 - val_loss: 0.1323 - val_accuracy: 0.5000\n",
            "Epoch 4/5\n",
            "94/94 [==============================] - 21s 220ms/step - loss: 0.1644 - accuracy: 0.5066 - val_loss: 0.1133 - val_accuracy: 0.5000\n",
            "Epoch 5/5\n",
            "94/94 [==============================] - 21s 220ms/step - loss: 0.1388 - accuracy: 0.4995 - val_loss: 0.0945 - val_accuracy: 0.5000\n",
            "Epoch 1/3\n",
            "47/47 [==============================] - 30s 605ms/step - loss: 0.2860 - model_11_loss: 0.0153 - model_12_loss: 2.7222 - model_11_accuracy: 0.8800 - model_12_accuracy: 1.0000 - val_loss: 0.2842 - val_model_11_loss: 0.0133 - val_model_12_loss: 2.7222 - val_model_11_accuracy: 0.8698 - val_model_12_accuracy: 1.0000\n",
            "Epoch 2/3\n",
            "47/47 [==============================] - 27s 585ms/step - loss: 0.2848 - model_11_loss: 0.0139 - model_12_loss: 2.7222 - model_11_accuracy: 0.8824 - model_12_accuracy: 1.0000 - val_loss: 0.2842 - val_model_11_loss: 0.0133 - val_model_12_loss: 2.7222 - val_model_11_accuracy: 0.8664 - val_model_12_accuracy: 1.0000\n",
            "Epoch 3/3\n",
            "47/47 [==============================] - 27s 584ms/step - loss: 0.2854 - model_11_loss: 0.0147 - model_12_loss: 2.7222 - model_11_accuracy: 0.8699 - model_12_accuracy: 1.0000 - val_loss: 0.2842 - val_model_11_loss: 0.0134 - val_model_12_loss: 2.7222 - val_model_11_accuracy: 0.8692 - val_model_12_accuracy: 1.0000\n"
          ],
          "name": "stdout"
        }
      ]
    },
    {
      "cell_type": "code",
      "metadata": {
        "id": "t27jEikX4KOH",
        "colab": {
          "base_uri": "https://localhost:8080/"
        },
        "outputId": "16dd4ad2-5c7f-42da-8ace-0ffc63858a09"
      },
      "source": [
        "gan_model.layers[0]"
      ],
      "execution_count": null,
      "outputs": [
        {
          "output_type": "execute_result",
          "data": {
            "text/plain": [
              "<tensorflow.python.keras.engine.input_layer.InputLayer at 0x7f44f0da8250>"
            ]
          },
          "metadata": {
            "tags": []
          },
          "execution_count": 13
        }
      ]
    },
    {
      "cell_type": "code",
      "metadata": {
        "id": "Hw8L7BDQ7nF7",
        "colab": {
          "base_uri": "https://localhost:8080/"
        },
        "outputId": "ab935d0a-7ed4-481c-a0a6-ee1ab084e509"
      },
      "source": [
        "gan_model.output"
      ],
      "execution_count": null,
      "outputs": [
        {
          "output_type": "execute_result",
          "data": {
            "text/plain": [
              "[<KerasTensor: shape=(None, 224, 224, 3) dtype=float32 (created by layer 'model_3')>,\n",
              " <KerasTensor: shape=(None, 1) dtype=float32 (created by layer 'model_4')>]"
            ]
          },
          "metadata": {
            "tags": []
          },
          "execution_count": 19
        }
      ]
    },
    {
      "cell_type": "code",
      "metadata": {
        "id": "k-HUqoo1xXM1"
      },
      "source": [
        "lab=gan_model.layers[1].predict(X_test)"
      ],
      "execution_count": null,
      "outputs": []
    },
    {
      "cell_type": "code",
      "metadata": {
        "id": "LxzoYi2tGLCF",
        "colab": {
          "base_uri": "https://localhost:8080/"
        },
        "outputId": "b25fcc3c-0085-4e3f-8c23-d76dd106b0e4"
      },
      "source": [
        "for i in range(0,225):\n",
        "    #print(L.shape)\n",
        "    img=lab[i]\n",
        "    img=img*100\n",
        "    img=lab2rgb(img)\n",
        "    img=img*255\n",
        "    print(img.shape)\n",
        "    imsave('/content/results/'+str(i)+\".jpg\", img.astype(np.uint8))"
      ],
      "execution_count": null,
      "outputs": [
        {
          "output_type": "stream",
          "text": [
            "(224, 224, 3)\n",
            "(224, 224, 3)\n",
            "(224, 224, 3)\n",
            "(224, 224, 3)\n",
            "(224, 224, 3)\n",
            "(224, 224, 3)\n",
            "(224, 224, 3)\n",
            "(224, 224, 3)\n",
            "(224, 224, 3)\n",
            "(224, 224, 3)\n",
            "(224, 224, 3)\n",
            "(224, 224, 3)\n",
            "(224, 224, 3)\n",
            "(224, 224, 3)\n",
            "(224, 224, 3)\n",
            "(224, 224, 3)\n",
            "(224, 224, 3)\n",
            "(224, 224, 3)\n",
            "(224, 224, 3)\n",
            "(224, 224, 3)\n",
            "(224, 224, 3)\n",
            "(224, 224, 3)\n",
            "(224, 224, 3)\n",
            "(224, 224, 3)\n",
            "(224, 224, 3)\n",
            "(224, 224, 3)\n",
            "(224, 224, 3)\n",
            "(224, 224, 3)\n",
            "(224, 224, 3)\n",
            "(224, 224, 3)\n",
            "(224, 224, 3)\n",
            "(224, 224, 3)\n",
            "(224, 224, 3)\n",
            "(224, 224, 3)\n",
            "(224, 224, 3)\n",
            "(224, 224, 3)\n",
            "(224, 224, 3)\n",
            "(224, 224, 3)\n",
            "(224, 224, 3)\n",
            "(224, 224, 3)\n",
            "(224, 224, 3)\n",
            "(224, 224, 3)\n",
            "(224, 224, 3)\n",
            "(224, 224, 3)\n",
            "(224, 224, 3)\n",
            "(224, 224, 3)\n",
            "(224, 224, 3)\n",
            "(224, 224, 3)\n",
            "(224, 224, 3)\n",
            "(224, 224, 3)\n",
            "(224, 224, 3)\n",
            "(224, 224, 3)\n",
            "(224, 224, 3)\n",
            "(224, 224, 3)\n",
            "(224, 224, 3)\n",
            "(224, 224, 3)\n",
            "(224, 224, 3)\n",
            "(224, 224, 3)\n",
            "(224, 224, 3)\n",
            "(224, 224, 3)\n",
            "(224, 224, 3)\n",
            "(224, 224, 3)\n",
            "(224, 224, 3)\n",
            "(224, 224, 3)\n",
            "(224, 224, 3)\n",
            "(224, 224, 3)\n",
            "(224, 224, 3)\n",
            "(224, 224, 3)\n",
            "(224, 224, 3)\n",
            "(224, 224, 3)\n",
            "(224, 224, 3)\n",
            "(224, 224, 3)\n",
            "(224, 224, 3)\n",
            "(224, 224, 3)\n",
            "(224, 224, 3)\n",
            "(224, 224, 3)\n",
            "(224, 224, 3)\n",
            "(224, 224, 3)\n",
            "(224, 224, 3)\n",
            "(224, 224, 3)\n",
            "(224, 224, 3)\n",
            "(224, 224, 3)\n",
            "(224, 224, 3)\n",
            "(224, 224, 3)\n",
            "(224, 224, 3)\n",
            "(224, 224, 3)\n",
            "(224, 224, 3)\n",
            "(224, 224, 3)\n",
            "(224, 224, 3)\n",
            "(224, 224, 3)\n",
            "(224, 224, 3)\n",
            "(224, 224, 3)\n",
            "(224, 224, 3)\n",
            "(224, 224, 3)\n",
            "(224, 224, 3)\n",
            "(224, 224, 3)\n",
            "(224, 224, 3)\n",
            "(224, 224, 3)\n",
            "(224, 224, 3)\n",
            "(224, 224, 3)\n",
            "(224, 224, 3)\n",
            "(224, 224, 3)\n",
            "(224, 224, 3)\n",
            "(224, 224, 3)\n",
            "(224, 224, 3)\n",
            "(224, 224, 3)\n",
            "(224, 224, 3)\n",
            "(224, 224, 3)\n",
            "(224, 224, 3)\n",
            "(224, 224, 3)\n",
            "(224, 224, 3)\n",
            "(224, 224, 3)\n",
            "(224, 224, 3)\n",
            "(224, 224, 3)\n",
            "(224, 224, 3)\n",
            "(224, 224, 3)\n",
            "(224, 224, 3)\n",
            "(224, 224, 3)\n",
            "(224, 224, 3)\n",
            "(224, 224, 3)\n",
            "(224, 224, 3)\n",
            "(224, 224, 3)\n",
            "(224, 224, 3)\n",
            "(224, 224, 3)\n",
            "(224, 224, 3)\n",
            "(224, 224, 3)\n",
            "(224, 224, 3)\n",
            "(224, 224, 3)\n",
            "(224, 224, 3)\n",
            "(224, 224, 3)\n",
            "(224, 224, 3)\n",
            "(224, 224, 3)\n",
            "(224, 224, 3)\n",
            "(224, 224, 3)\n",
            "(224, 224, 3)\n",
            "(224, 224, 3)\n",
            "(224, 224, 3)\n",
            "(224, 224, 3)\n",
            "(224, 224, 3)\n",
            "(224, 224, 3)\n",
            "(224, 224, 3)\n",
            "(224, 224, 3)\n",
            "(224, 224, 3)\n",
            "(224, 224, 3)\n",
            "(224, 224, 3)\n",
            "(224, 224, 3)\n",
            "(224, 224, 3)\n",
            "(224, 224, 3)\n",
            "(224, 224, 3)\n",
            "(224, 224, 3)\n",
            "(224, 224, 3)\n",
            "(224, 224, 3)\n",
            "(224, 224, 3)\n",
            "(224, 224, 3)\n",
            "(224, 224, 3)\n",
            "(224, 224, 3)\n",
            "(224, 224, 3)\n",
            "(224, 224, 3)\n",
            "(224, 224, 3)\n",
            "(224, 224, 3)\n",
            "(224, 224, 3)\n",
            "(224, 224, 3)\n",
            "(224, 224, 3)\n",
            "(224, 224, 3)\n",
            "(224, 224, 3)\n",
            "(224, 224, 3)\n",
            "(224, 224, 3)\n",
            "(224, 224, 3)\n",
            "(224, 224, 3)\n",
            "(224, 224, 3)\n",
            "(224, 224, 3)\n",
            "(224, 224, 3)\n",
            "(224, 224, 3)\n",
            "(224, 224, 3)\n",
            "(224, 224, 3)\n",
            "(224, 224, 3)\n",
            "(224, 224, 3)\n",
            "(224, 224, 3)\n",
            "(224, 224, 3)\n",
            "(224, 224, 3)\n",
            "(224, 224, 3)\n",
            "(224, 224, 3)\n",
            "(224, 224, 3)\n",
            "(224, 224, 3)\n",
            "(224, 224, 3)\n",
            "(224, 224, 3)\n",
            "(224, 224, 3)\n",
            "(224, 224, 3)\n",
            "(224, 224, 3)\n",
            "(224, 224, 3)\n",
            "(224, 224, 3)\n",
            "(224, 224, 3)\n",
            "(224, 224, 3)\n",
            "(224, 224, 3)\n",
            "(224, 224, 3)\n",
            "(224, 224, 3)\n",
            "(224, 224, 3)\n",
            "(224, 224, 3)\n",
            "(224, 224, 3)\n",
            "(224, 224, 3)\n",
            "(224, 224, 3)\n",
            "(224, 224, 3)\n",
            "(224, 224, 3)\n",
            "(224, 224, 3)\n",
            "(224, 224, 3)\n",
            "(224, 224, 3)\n",
            "(224, 224, 3)\n",
            "(224, 224, 3)\n",
            "(224, 224, 3)\n",
            "(224, 224, 3)\n",
            "(224, 224, 3)\n",
            "(224, 224, 3)\n",
            "(224, 224, 3)\n",
            "(224, 224, 3)\n",
            "(224, 224, 3)\n",
            "(224, 224, 3)\n",
            "(224, 224, 3)\n",
            "(224, 224, 3)\n",
            "(224, 224, 3)\n",
            "(224, 224, 3)\n",
            "(224, 224, 3)\n",
            "(224, 224, 3)\n",
            "(224, 224, 3)\n",
            "(224, 224, 3)\n",
            "(224, 224, 3)\n"
          ],
          "name": "stdout"
        }
      ]
    },
    {
      "cell_type": "code",
      "metadata": {
        "colab": {
          "base_uri": "https://localhost:8080/"
        },
        "id": "NHZ-yTfiOnKk",
        "outputId": "b2ea1354-de18-4fbe-8dcd-a74a99b65e5e"
      },
      "source": [
        "gan_model.save('/content/drive/MyDrive/final_year_project/saved_models') "
      ],
      "execution_count": null,
      "outputs": [
        {
          "output_type": "stream",
          "text": [
            "INFO:tensorflow:Assets written to: /content/drive/MyDrive/final_year_project/saved_models/assets\n"
          ],
          "name": "stdout"
        }
      ]
    },
    {
      "cell_type": "code",
      "metadata": {
        "id": "NmMAy87i09Yw"
      },
      "source": [
        "!zip -r /content/results.zip /content/results"
      ],
      "execution_count": null,
      "outputs": []
    },
    {
      "cell_type": "code",
      "metadata": {
        "id": "5UhD2bsz3GDn"
      },
      "source": [
        "import shutil\n",
        "\n",
        "shutil.rmtree('/content/results')"
      ],
      "execution_count": null,
      "outputs": []
    }
  ]
}